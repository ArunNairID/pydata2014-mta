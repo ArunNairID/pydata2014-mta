{
 "metadata": {
  "name": "",
  "signature": "sha256:7cdcd047ef091f9a8f5c511acb4653f9306917809b26fffafa331ecb73e8c5eb"
 },
 "nbformat": 3,
 "nbformat_minor": 0,
 "worksheets": [
  {
   "cells": [
    {
     "cell_type": "heading",
     "level": 1,
     "metadata": {},
     "source": [
      "Data preparation and aggregation"
     ]
    },
    {
     "cell_type": "code",
     "collapsed": false,
     "input": [
      "import numpy as np\n",
      "import pandas as pd\n",
      "from matplotlib import pyplot as plt"
     ],
     "language": "python",
     "metadata": {},
     "outputs": []
    },
    {
     "cell_type": "heading",
     "level": 2,
     "metadata": {},
     "source": [
      "Load raw data"
     ]
    },
    {
     "cell_type": "code",
     "collapsed": false,
     "input": [
      "df = pd.read_csv('fulton_street_raw.csv',\n",
      "                 index_col=0,\n",
      "                 parse_dates=True,\n",
      "                 sep=\";\")"
     ],
     "language": "python",
     "metadata": {},
     "outputs": []
    },
    {
     "cell_type": "code",
     "collapsed": false,
     "input": [
      "df.head()"
     ],
     "language": "python",
     "metadata": {},
     "outputs": []
    },
    {
     "cell_type": "heading",
     "level": 2,
     "metadata": {},
     "source": [
      "Plot timeseries"
     ]
    },
    {
     "cell_type": "code",
     "collapsed": false,
     "input": [
      "df['exits'].plot()\n",
      "plt.show()"
     ],
     "language": "python",
     "metadata": {},
     "outputs": []
    },
    {
     "cell_type": "heading",
     "level": 2,
     "metadata": {},
     "source": [
      "Replace implausible values by NaN"
     ]
    },
    {
     "cell_type": "code",
     "collapsed": false,
     "input": [
      "df.ix[df['exits'] < 0, 'exits'] = np.nan\n",
      "df.ix[df['exits'] > 100000, 'exits'] = np.nan"
     ],
     "language": "python",
     "metadata": {},
     "outputs": []
    },
    {
     "cell_type": "heading",
     "level": 2,
     "metadata": {},
     "source": [
      "Plot again"
     ]
    },
    {
     "cell_type": "code",
     "collapsed": false,
     "input": [
      "df['exits'].plot()\n",
      "plt.show()"
     ],
     "language": "python",
     "metadata": {},
     "outputs": []
    },
    {
     "cell_type": "heading",
     "level": 2,
     "metadata": {},
     "source": [
      "Find gaps in timeseries"
     ]
    },
    {
     "cell_type": "code",
     "collapsed": false,
     "input": [
      "df.reset_index(inplace=True)\n",
      "from datetime import timedelta\n",
      "df['timediff'] = (df['time'] - df['time'].shift(1)) / np.timedelta64(1, 'h')\n",
      "df.set_index('time', inplace=True)"
     ],
     "language": "python",
     "metadata": {},
     "outputs": []
    },
    {
     "cell_type": "code",
     "collapsed": false,
     "input": [
      "df['timediff'].value_counts()"
     ],
     "language": "python",
     "metadata": {},
     "outputs": []
    },
    {
     "cell_type": "markdown",
     "metadata": {},
     "source": [
      "e. g. 2010-05-29 00:00 (Saturday morning) is missing "
     ]
    },
    {
     "cell_type": "code",
     "collapsed": false,
     "input": [
      "df[35:38]"
     ],
     "language": "python",
     "metadata": {},
     "outputs": []
    },
    {
     "cell_type": "heading",
     "level": 2,
     "metadata": {},
     "source": [
      "Linear interpolation of gaps"
     ]
    },
    {
     "cell_type": "code",
     "collapsed": false,
     "input": [
      "df = df.resample('4h')\n",
      "df['exits'] = df['exits'].interpolate()\n",
      "df['entries'] = df['entries'].interpolate()"
     ],
     "language": "python",
     "metadata": {},
     "outputs": []
    },
    {
     "cell_type": "code",
     "collapsed": false,
     "input": [
      "df[35:38]"
     ],
     "language": "python",
     "metadata": {},
     "outputs": []
    },
    {
     "cell_type": "heading",
     "level": 2,
     "metadata": {},
     "source": [
      "Aggregate to daily timeseries"
     ]
    },
    {
     "cell_type": "code",
     "collapsed": false,
     "input": [
      "df['date'] = df.index.map(lambda x: x.date())\n",
      "df = df.groupby('date')[['exits']].sum()"
     ],
     "language": "python",
     "metadata": {},
     "outputs": []
    },
    {
     "cell_type": "heading",
     "level": 2,
     "metadata": {},
     "source": [
      "Add columns for year, month, day, weekday"
     ]
    },
    {
     "cell_type": "code",
     "collapsed": false,
     "input": [
      "df['year'] = df.index.map(lambda x: x.year)\n",
      "df['month'] = df.index.map(lambda x: x.month)\n",
      "df['day'] = df.index.map(lambda x: x.day)\n",
      "df['weekday'] = df.index.map(lambda x: x.weekday())"
     ],
     "language": "python",
     "metadata": {},
     "outputs": []
    },
    {
     "cell_type": "heading",
     "level": 2,
     "metadata": {},
     "source": [
      "Define training sample"
     ]
    },
    {
     "cell_type": "code",
     "collapsed": false,
     "input": [
      "import datetime as dt\n",
      "df['in_sample'] = df.index <= dt.date(2012, 12, 31)"
     ],
     "language": "python",
     "metadata": {},
     "outputs": []
    },
    {
     "cell_type": "heading",
     "level": 2,
     "metadata": {},
     "source": [
      "Save data"
     ]
    },
    {
     "cell_type": "code",
     "collapsed": false,
     "input": [
      "df.to_csv('fulton_street_prepared.csv',\n",
      "          sep=';')"
     ],
     "language": "python",
     "metadata": {},
     "outputs": []
    }
   ],
   "metadata": {}
  }
 ]
}