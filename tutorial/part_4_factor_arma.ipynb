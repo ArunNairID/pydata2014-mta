{
 "metadata": {
  "name": "",
  "signature": "sha256:374dc629a6b83524fbafb6a92cc031dd77087a2321dbdf6eeaf22330a1108981"
 },
 "nbformat": 3,
 "nbformat_minor": 0,
 "worksheets": [
  {
   "cells": [
    {
     "cell_type": "heading",
     "level": 1,
     "metadata": {},
     "source": [
      "Factor model and ARMA models"
     ]
    },
    {
     "cell_type": "code",
     "collapsed": false,
     "input": [
      "import pandas as pd\n",
      "import numpy as np\n",
      "from matplotlib import pyplot as plt "
     ],
     "language": "python",
     "metadata": {},
     "outputs": []
    },
    {
     "cell_type": "code",
     "collapsed": false,
     "input": [
      "df = pd.read_csv('fulton_street_prepared.csv',\n",
      "                 index_col='date',\n",
      "                 parse_dates=True,\n",
      "                 sep=';')"
     ],
     "language": "python",
     "metadata": {},
     "outputs": []
    },
    {
     "cell_type": "markdown",
     "metadata": {},
     "source": [
      "**Ideas**\n",
      "\n",
      "remove linear trend\n",
      "\n",
      "remove seasonalities\n",
      "\n",
      "ARMA models\n",
      "\n",
      "http://pydse.readthedocs.org/index.html"
     ]
    }
   ],
   "metadata": {}
  }
 ]
}