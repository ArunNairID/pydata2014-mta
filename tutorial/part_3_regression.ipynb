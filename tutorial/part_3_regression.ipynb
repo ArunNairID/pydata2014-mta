{
 "metadata": {
  "name": "",
  "signature": "sha256:621b421db6d6ad3e8e54bdecc9ccf824551aaddb00a6b9aac039c82083ff6c23"
 },
 "nbformat": 3,
 "nbformat_minor": 0,
 "worksheets": [
  {
   "cells": [
    {
     "cell_type": "heading",
     "level": 1,
     "metadata": {},
     "source": [
      "Regression models"
     ]
    },
    {
     "cell_type": "code",
     "collapsed": false,
     "input": [
      "import pandas as pd\n",
      "import numpy as np\n",
      "from matplotlib import pyplot as plt "
     ],
     "language": "python",
     "metadata": {},
     "outputs": []
    },
    {
     "cell_type": "heading",
     "level": 2,
     "metadata": {},
     "source": [
      "Load data with moving averages"
     ]
    },
    {
     "cell_type": "code",
     "collapsed": false,
     "input": [
      "df = pd.read_csv('fulton_street_moving_averages.csv',\n",
      "                 index_col='date',\n",
      "                 parse_dates=True,\n",
      "                 sep=';')"
     ],
     "language": "python",
     "metadata": {},
     "outputs": []
    },
    {
     "cell_type": "code",
     "collapsed": false,
     "input": [
      "df.columns.tolist()"
     ],
     "language": "python",
     "metadata": {},
     "outputs": []
    },
    {
     "cell_type": "markdown",
     "metadata": {},
     "source": [
      "**Ideas**\n",
      "\n",
      "Regression models using moving averages as input variables\n",
      "\n",
      "Linear regression\n",
      "\n",
      "http://scikit-learn.org/stable/modules/generated/sklearn.linear_model.LinearRegression.html\n",
      "    \n",
      "nonlinear regression, e. g. Gradient Boost\n",
      "\n",
      "http://scikit-learn.org/stable/modules/generated/sklearn.ensemble.GradientBoostingClassifier.html"
     ]
    }
   ],
   "metadata": {}
  }
 ]
}