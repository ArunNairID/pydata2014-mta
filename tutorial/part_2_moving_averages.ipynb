{
 "metadata": {
  "name": "",
  "signature": "sha256:c21d0e704c24368454108fe327c5f71d86f3027633cc7d0b9950991c805860ff"
 },
 "nbformat": 3,
 "nbformat_minor": 0,
 "worksheets": [
  {
   "cells": [
    {
     "cell_type": "heading",
     "level": 1,
     "metadata": {},
     "source": [
      "Moving averages and simple prediction models"
     ]
    },
    {
     "cell_type": "code",
     "collapsed": false,
     "input": [
      "import numpy as np\n",
      "import pandas as pd\n",
      "from matplotlib import pyplot as plt "
     ],
     "language": "python",
     "metadata": {},
     "outputs": []
    },
    {
     "cell_type": "code",
     "collapsed": false,
     "input": [
      "df = pd.read_csv('fulton_street_prepared.csv',\n",
      "                 index_col='date',\n",
      "                 parse_dates=True,\n",
      "                 sep=';')"
     ],
     "language": "python",
     "metadata": {},
     "outputs": []
    },
    {
     "cell_type": "heading",
     "level": 2,
     "metadata": {},
     "source": [
      "Import evaluation function"
     ]
    },
    {
     "cell_type": "code",
     "collapsed": false,
     "input": [
      "from evaluation import evaluate"
     ],
     "language": "python",
     "metadata": {},
     "outputs": []
    },
    {
     "cell_type": "heading",
     "level": 2,
     "metadata": {},
     "source": [
      "Trivial models"
     ]
    },
    {
     "cell_type": "raw",
     "metadata": {},
     "source": [
      "Trivial model 1: use yesterday's truth as prediction for today"
     ]
    },
    {
     "cell_type": "code",
     "collapsed": false,
     "input": [
      "df['exits_yesterday'] = df['exits'].shift(1, '1D')"
     ],
     "language": "python",
     "metadata": {},
     "outputs": []
    },
    {
     "cell_type": "raw",
     "metadata": {},
     "source": [
      "Trivial model 2: use truth from one week ago"
     ]
    },
    {
     "cell_type": "code",
     "collapsed": false,
     "input": [
      "df['exits_last_week'] = df['exits'].shift(7, '1D')"
     ],
     "language": "python",
     "metadata": {},
     "outputs": []
    },
    {
     "cell_type": "code",
     "collapsed": false,
     "input": [
      "df[['weekday', 'exits', 'exits_yesterday', 'exits_last_week']].tail(10)"
     ],
     "language": "python",
     "metadata": {},
     "outputs": []
    },
    {
     "cell_type": "code",
     "collapsed": false,
     "input": [
      "evaluate(df['exits'], df['exits_yesterday'])\n",
      "evaluate(df['exits'], df['exits_last_week'])"
     ],
     "language": "python",
     "metadata": {},
     "outputs": []
    },
    {
     "cell_type": "markdown",
     "metadata": {},
     "source": [
      "**Ideas**\n",
      "\n",
      "Rolling means\n",
      "\n",
      "http://pandas.pydata.org/pandas-docs/stable/computation.html#moving-rolling-statistics-moments\n",
      "\n",
      "http://pandas.pydata.org/pandas-docs/stable/generated/pandas.rolling_mean.html#pandas.rolling_mean\n",
      "\n",
      "Exponentially weighted moving averages\n",
      "\n",
      "http://pandas.pydata.org/pandas-docs/stable/computation.html#exponentially-weighted-moment-functions\n",
      "\n",
      "http://pandas.pydata.org/pandas-docs/stable/generated/pandas.ewma.html#pandas.ewma\n"
     ]
    }
   ],
   "metadata": {}
  }
 ]
}