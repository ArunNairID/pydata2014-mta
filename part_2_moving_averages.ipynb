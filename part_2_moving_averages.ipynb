{
 "metadata": {
  "name": "",
  "signature": "sha256:a56ebf64a04ef53ea8246080d6d29fd6662fca5fe276a5421de3d7ff46c95200"
 },
 "nbformat": 3,
 "nbformat_minor": 0,
 "worksheets": [
  {
   "cells": [
    {
     "cell_type": "heading",
     "level": 1,
     "metadata": {},
     "source": [
      "Moving averages and simple prediction models"
     ]
    },
    {
     "cell_type": "code",
     "collapsed": false,
     "input": [
      "import numpy as np\n",
      "import pandas as pd\n",
      "from matplotlib import pyplot as plt "
     ],
     "language": "python",
     "metadata": {},
     "outputs": []
    },
    {
     "cell_type": "code",
     "collapsed": false,
     "input": [
      "df = pd.read_csv('fulton_street_prepared.csv',\n",
      "                 index_col='date',\n",
      "                 parse_dates=True,\n",
      "                 sep=';')"
     ],
     "language": "python",
     "metadata": {},
     "outputs": []
    },
    {
     "cell_type": "heading",
     "level": 2,
     "metadata": {},
     "source": [
      "Import evaluation function"
     ]
    },
    {
     "cell_type": "code",
     "collapsed": false,
     "input": [
      "from evaluation import evaluate"
     ],
     "language": "python",
     "metadata": {},
     "outputs": []
    },
    {
     "cell_type": "heading",
     "level": 2,
     "metadata": {},
     "source": [
      "Trivial models"
     ]
    },
    {
     "cell_type": "raw",
     "metadata": {},
     "source": [
      "Trivial model 1: use yesterday's truth as prediction for today"
     ]
    },
    {
     "cell_type": "code",
     "collapsed": false,
     "input": [
      "df['exits_yesterday'] = df['exits'].shift(1, '1D')"
     ],
     "language": "python",
     "metadata": {},
     "outputs": []
    },
    {
     "cell_type": "raw",
     "metadata": {},
     "source": [
      "Trivial model 2: use truth from one week ago"
     ]
    },
    {
     "cell_type": "code",
     "collapsed": false,
     "input": [
      "df['exits_last_week'] = df['exits'].shift(7, '1D')"
     ],
     "language": "python",
     "metadata": {},
     "outputs": []
    },
    {
     "cell_type": "code",
     "collapsed": false,
     "input": [
      "df[['weekday', 'exits', 'exits_yesterday', 'exits_last_week']].tail(10)"
     ],
     "language": "python",
     "metadata": {},
     "outputs": []
    },
    {
     "cell_type": "code",
     "collapsed": false,
     "input": [
      "evaluate(df['exits'], df['exits_yesterday'])\n",
      "evaluate(df['exits'], df['exits_last_week'])"
     ],
     "language": "python",
     "metadata": {},
     "outputs": []
    },
    {
     "cell_type": "heading",
     "level": 2,
     "metadata": {},
     "source": [
      "Rolling means and exponentially weighted moving averages"
     ]
    },
    {
     "cell_type": "code",
     "collapsed": false,
     "input": [
      "def calculate_moving_averages(group, column, rolling_window, ewma_fast_com, ewma_slow_com, prefix):\n",
      "    group[prefix + '_roll'] = pd.rolling_mean(group[column], rolling_window, min_periods=1)\n",
      "    group[prefix + '_ewma_fast'] = pd.ewma(group[column], com=ewma_fast_com, min_periods=1)\n",
      "    group[prefix + '_ewma_slow'] = pd.ewma(group[column], com=ewma_slow_com, min_periods=1)\n",
      "    return group"
     ],
     "language": "python",
     "metadata": {},
     "outputs": []
    },
    {
     "cell_type": "code",
     "collapsed": false,
     "input": [
      "def daily_moving_averages(input_df, column,\n",
      "                          rolling_window=10, ewma_fast_com=0.05, ewma_slow_com=1):\n",
      "    df_moving_averages  = calculate_moving_averages(\n",
      "            input_df.copy(),\n",
      "            column,\n",
      "            rolling_window, ewma_fast_com, ewma_slow_com,\n",
      "            'daily')\n",
      "    df_moving_averages = df_moving_averages[['daily_roll',\n",
      "                                             'daily_ewma_fast',\n",
      "                                             'daily_ewma_slow']]  \n",
      "    df_moving_averages = df_moving_averages.shift(1, '1D')\n",
      "    return input_df.join(df_moving_averages, how='left')"
     ],
     "language": "python",
     "metadata": {},
     "outputs": []
    },
    {
     "cell_type": "code",
     "collapsed": false,
     "input": [
      "def weekday_moving_averages(input_df, column,\n",
      "                            rolling_window=4, ewma_fast_com=0.05, ewma_slow_com=1):\n",
      "    df_moving_averages = input_df.groupby('weekday').apply(\n",
      "            calculate_moving_averages,\n",
      "            column,\n",
      "            rolling_window, ewma_fast_com, ewma_slow_com,\n",
      "            'weekday')\n",
      "    df_moving_averages = df_moving_averages[['weekday_roll',\n",
      "                                             'weekday_ewma_fast',\n",
      "                                             'weekday_ewma_slow']]\n",
      "    df_moving_averages = df_moving_averages.shift(1, '7D')\n",
      "    return input_df.join(df_moving_averages, how='left')"
     ],
     "language": "python",
     "metadata": {},
     "outputs": []
    },
    {
     "cell_type": "code",
     "collapsed": false,
     "input": [
      "df = daily_moving_averages(df, 'exits')\n",
      "df = weekday_moving_averages(df, 'exits')"
     ],
     "language": "python",
     "metadata": {},
     "outputs": []
    },
    {
     "cell_type": "code",
     "collapsed": false,
     "input": [
      "df.columns.tolist()"
     ],
     "language": "python",
     "metadata": {},
     "outputs": []
    },
    {
     "cell_type": "heading",
     "level": 2,
     "metadata": {},
     "source": [
      "Evaluate prediction models"
     ]
    },
    {
     "cell_type": "code",
     "collapsed": false,
     "input": [
      "y_train = df['exits'][df['in_sample'] == True]\n",
      "y_test = df['exits'][df['in_sample'] == False]"
     ],
     "language": "python",
     "metadata": {},
     "outputs": []
    },
    {
     "cell_type": "heading",
     "level": 4,
     "metadata": {},
     "source": [
      "Model 1"
     ]
    },
    {
     "cell_type": "code",
     "collapsed": false,
     "input": [
      "pred_1_in = df['exits_yesterday'][df['in_sample'] == True]\n",
      "pred_1_out = df['exits_yesterday'][df['in_sample'] == False]                                \n",
      "mae_in_1 = evaluate(pred_1_in, y_train)\n",
      "mae_out_1 = evaluate(pred_1_out, y_test)"
     ],
     "language": "python",
     "metadata": {},
     "outputs": []
    },
    {
     "cell_type": "heading",
     "level": 4,
     "metadata": {},
     "source": [
      "Model 2"
     ]
    },
    {
     "cell_type": "code",
     "collapsed": false,
     "input": [
      "pred_2_in = df['exits_last_week'][df['in_sample'] == True]\n",
      "pred_2_out = df['exits_last_week'][df['in_sample'] == False]\n",
      "mae_in_2 = evaluate(pred_2_in, y_train)\n",
      "mae_out_2 = evaluate(pred_2_out, y_test)"
     ],
     "language": "python",
     "metadata": {},
     "outputs": []
    },
    {
     "cell_type": "heading",
     "level": 4,
     "metadata": {},
     "source": [
      "Model 3"
     ]
    },
    {
     "cell_type": "code",
     "collapsed": false,
     "input": [
      "pred_3_in = df['daily_ewma_fast'][df['in_sample'] == True]\n",
      "pred_3_out = df['daily_ewma_fast'][df['in_sample'] == False]\n",
      "mae_in_3 = evaluate(pred_3_in, y_train)\n",
      "mae_out_3 = evaluate(pred_3_out, y_test)"
     ],
     "language": "python",
     "metadata": {},
     "outputs": []
    },
    {
     "cell_type": "heading",
     "level": 4,
     "metadata": {},
     "source": [
      "Model 4"
     ]
    },
    {
     "cell_type": "code",
     "collapsed": false,
     "input": [
      "pred_4_in = df['weekday_ewma_fast'][df['in_sample'] == True]\n",
      "pred_4_out = df['weekday_ewma_fast'][df['in_sample'] == False]\n",
      "mae_in_4 = evaluate(pred_4_in, y_train)\n",
      "mae_out_4 = evaluate(pred_4_out, y_test)"
     ],
     "language": "python",
     "metadata": {},
     "outputs": []
    },
    {
     "cell_type": "heading",
     "level": 2,
     "metadata": {},
     "source": [
      "Compare MAEs of different models"
     ]
    },
    {
     "cell_type": "code",
     "collapsed": false,
     "input": [
      "print 'MAE in sample: model 1: {:.1f} , model 2: {:.1f}, model 3: {:.1f}, model 4: {:.1f}'.format(\n",
      "    mae_in_1, mae_in_2, mae_in_3, mae_in_4)"
     ],
     "language": "python",
     "metadata": {},
     "outputs": []
    },
    {
     "cell_type": "code",
     "collapsed": false,
     "input": [
      "print 'MAE out of sample: model 1: {:.1f}, model 2: {:.1f}, model 3: {:.1f}, model 4: {:.1f}'.format(\n",
      "    mae_out_1, mae_out_2, mae_out_3, mae_out_4)"
     ],
     "language": "python",
     "metadata": {},
     "outputs": []
    },
    {
     "cell_type": "raw",
     "metadata": {},
     "source": [
      "Compare values for MAE to mean of target"
     ]
    },
    {
     "cell_type": "code",
     "collapsed": false,
     "input": [
      "print 'Mean of target in sample: {:.2f}'.format(y_train.mean())\n",
      "print 'Mean of target out of sample: {:.2f}'.format(y_test.mean())"
     ],
     "language": "python",
     "metadata": {},
     "outputs": []
    },
    {
     "cell_type": "heading",
     "level": 2,
     "metadata": {},
     "source": [
      "Save data"
     ]
    },
    {
     "cell_type": "code",
     "collapsed": false,
     "input": [
      "df[14:].to_csv('fulton_street_moving_averages.csv',\n",
      "               sep=';')"
     ],
     "language": "python",
     "metadata": {},
     "outputs": []
    }
   ],
   "metadata": {}
  }
 ]
}