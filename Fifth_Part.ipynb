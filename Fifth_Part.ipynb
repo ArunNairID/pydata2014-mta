{
 "metadata": {
  "name": "",
  "signature": "sha256:19ba4db496d793805f80be44602e9834a73c27fd588e465564ea3b768d268210"
 },
 "nbformat": 3,
 "nbformat_minor": 0,
 "worksheets": [
  {
   "cells": [
    {
     "cell_type": "heading",
     "level": 3,
     "metadata": {},
     "source": [
      "Distributions , estimators, cost functions"
     ]
    },
    {
     "cell_type": "code",
     "collapsed": false,
     "input": [
      "import pandas as pd\n",
      "import numpy as np\n",
      "import datetime as dt\n",
      "from matplotlib import pyplot as plt "
     ],
     "language": "python",
     "metadata": {},
     "outputs": []
    },
    {
     "cell_type": "heading",
     "level": 4,
     "metadata": {},
     "source": [
      "Plot distribution of target and fit gamma distribution"
     ]
    },
    {
     "cell_type": "code",
     "collapsed": false,
     "input": [
      "df_fulton_street = pd.read_csv('fulton_street_moving_averages.csv',parse_dates=['Date'],sep=';')"
     ],
     "language": "python",
     "metadata": {},
     "outputs": []
    },
    {
     "cell_type": "code",
     "collapsed": false,
     "input": [
      "df_fulton_street['exits'].hist(bins=100, normed=True)\n",
      "from scipy.stats import expon,poisson,gamma\n",
      "param= gamma.fit(df_fulton_street['exits'])\n",
      "print param\n",
      "x = np.linspace(0, 100000,100)\n",
      "plt.plot(x,gamma.pdf(x,param[0],param[1],param[2]))\n",
      "plt.show()"
     ],
     "language": "python",
     "metadata": {},
     "outputs": []
    },
    {
     "cell_type": "heading",
     "level": 4,
     "metadata": {},
     "source": [
      "Convolute costs and gamma"
     ]
    },
    {
     "cell_type": "code",
     "collapsed": false,
     "input": [
      "### fitted gamma :\n",
      "x1 = np.linspace(-100000,100000,2000)\n",
      "y_1 = np.piecewise(x1, [x1 < 0, x1 >= 0], [lambda x1 : 0 , lambda x1 : gamma.pdf(x1,param[0],param[1],param[2])])\n",
      "### linear costs :\n",
      "### costs not selling a pretzel 1 euro\n",
      "### costs throwing away a pretzel 1 euro\n",
      "y_2 = np.piecewise(x1, [x1 < 0, x1 >= 0], [lambda x1 : -x1,  lambda x1 : x1])"
     ],
     "language": "python",
     "metadata": {},
     "outputs": []
    },
    {
     "cell_type": "code",
     "collapsed": false,
     "input": [
      "### convolve y_2 and y_1 -> cost function\n",
      "y=np.convolve(y_2,y_1,mode='full')\n",
      "x=np.linspace(-200000, 200000,3999)\n",
      "plt.plot(x,y)\n",
      "plt.show()"
     ],
     "language": "python",
     "metadata": {},
     "outputs": []
    },
    {
     "cell_type": "code",
     "collapsed": false,
     "input": [
      "###search minimum\n",
      "minimum = np.argmin(y[2000:3000])\n",
      "print \"minimum bin\",minimum\n",
      "print \"x at minimum - 1 :\", x[2000+minimum-1]\n",
      "print \"x at minimum :\",x[2000+minimum]\n",
      "print \"x at minimum + 1 :\",x[2000+minimum+1]\n",
      "print \"median of gamma :\",gamma.median(param[0],param[1],param[2])"
     ],
     "language": "python",
     "metadata": {},
     "outputs": []
    },
    {
     "cell_type": "code",
     "collapsed": false,
     "input": [
      "### real life\n",
      "### costs not selling a pretzel 2.5 euro\n",
      "### costs throwing away a pretzel 1 euro\n",
      "y_2 = np.piecewise(x1, [x1 < 0, x1 >= 0], [lambda x1 : -2.5*x1,  lambda x1 : x1])"
     ],
     "language": "python",
     "metadata": {},
     "outputs": []
    },
    {
     "cell_type": "code",
     "collapsed": false,
     "input": [
      "### convolve y_2 and y_1 -> cost function\n",
      "y=np.convolve(y_2,y_1,mode='full')\n",
      "x=np.linspace(-200000, 200000,3999)\n",
      "plt.plot(x,y)\n",
      "plt.show()"
     ],
     "language": "python",
     "metadata": {},
     "outputs": []
    },
    {
     "cell_type": "code",
     "collapsed": false,
     "input": [
      "###search minimum\n",
      "minimum = np.argmin(y[2000:3000])\n",
      "print \"minimum bin\",minimum\n",
      "print \"x at minimum - 1 :\", x[2000+minimum-1]\n",
      "print \"x at minimum :\",x[2000+minimum]\n",
      "print \"x at minimum + 1 :\",x[2000+minimum+1]\n",
      "print \"median of gamma :\",gamma.median(param[0],param[1],param[2])"
     ],
     "language": "python",
     "metadata": {},
     "outputs": []
    }
   ],
   "metadata": {}
  }
 ]
}