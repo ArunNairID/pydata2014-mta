{
 "metadata": {
  "name": "",
  "signature": "sha256:050fdc3b14140ea565347cedf015e15ee243de43237e5f5cacdef8606494e430"
 },
 "nbformat": 3,
 "nbformat_minor": 0,
 "worksheets": [
  {
   "cells": [
    {
     "cell_type": "heading",
     "level": 1,
     "metadata": {},
     "source": [
      "Moving averages and simple prediction models"
     ]
    },
    {
     "cell_type": "code",
     "collapsed": false,
     "input": [
      "import numpy as np\n",
      "import pandas as pd\n",
      "from matplotlib import pyplot as plt "
     ],
     "language": "python",
     "metadata": {},
     "outputs": []
    },
    {
     "cell_type": "code",
     "collapsed": false,
     "input": [
      "df = pd.read_csv(\"fulton_street_G_23052010_31122013_linear_interpolated_aggregated.csv\",\n",
      "                 index_col='date',\n",
      "                 parse_dates=True,\n",
      "                 sep=';')\n",
      "df.reset_index(inplace=True)"
     ],
     "language": "python",
     "metadata": {},
     "outputs": []
    },
    {
     "cell_type": "heading",
     "level": 3,
     "metadata": {},
     "source": [
      "Trivial models"
     ]
    },
    {
     "cell_type": "code",
     "collapsed": false,
     "input": [
      "# Trivial model 1\n",
      "df['exits_yesterday'] = df['exits'].shift(1)\n",
      "\n",
      "# Trivial model 2\n",
      "df['exits_last_week'] = df['exits'].shift(7)"
     ],
     "language": "python",
     "metadata": {},
     "outputs": []
    },
    {
     "cell_type": "heading",
     "level": 3,
     "metadata": {},
     "source": [
      "Rolling means and exponentially weighted moving averages"
     ]
    },
    {
     "cell_type": "code",
     "collapsed": false,
     "input": [
      "def set_time_shift(dataframe, index_column, shift_freq):\n",
      "    dataframe = dataframe.set_index(index_column)\n",
      "    dataframe = dataframe.shift(1, freq=shift_freq)\n",
      "    return dataframe.reset_index()"
     ],
     "language": "python",
     "metadata": {},
     "outputs": []
    },
    {
     "cell_type": "code",
     "collapsed": false,
     "input": [
      "def calculate_rolling_means(group, column, rolling_window, emov_fast_com, emov_slow_com, prefix):\n",
      "    group[prefix + '_roll'] = pd.rolling_mean(group[column], rolling_window, min_periods=1)\n",
      "    group[prefix + '_emov_fast'] = pd.ewma(group[column], com=emov_fast_com, min_periods=1)\n",
      "    group[prefix + '_emov_slow'] = pd.ewma(group[column], com=emov_slow_com, min_periods=1)\n",
      "    return group"
     ],
     "language": "python",
     "metadata": {},
     "outputs": []
    },
    {
     "cell_type": "code",
     "collapsed": false,
     "input": [
      "def daily_emovs(input_df, column, rolling_window=10, emov_fast_com=0.05, emov_slow_com=1):\n",
      "    daily_mean = input_df.copy()\n",
      "    daily_mean = calculate_rolling_means(daily_mean, column,\n",
      "                                         rolling_window, emov_fast_com, emov_slow_com,\n",
      "                                         'target_daily')\n",
      "    daily_mean = daily_mean[['date', 'target_daily_roll', 'target_daily_emov_fast', 'target_daily_emov_slow']]  \n",
      "    daily_mean = set_time_shift(daily_mean, 'date', '1D')\n",
      "    return input_df.merge(daily_mean, on='date', how='left', suffixes=['', '_daily_mean'])"
     ],
     "language": "python",
     "metadata": {},
     "outputs": []
    },
    {
     "cell_type": "code",
     "collapsed": false,
     "input": [
      "def daily_weekday_emovs(input_df, column, rolling_window=4, emov_fast_com=0.05, emov_slow_com=1):\n",
      "    weekday_prep = input_df.groupby('weekday').apply(calculate_rolling_means,\n",
      "                                                     column,\n",
      "                                                     rolling_window, emov_fast_com, emov_slow_com,\n",
      "                                                     'target_daily_weekday')\n",
      "    weekday_prep = weekday_prep[['date',\n",
      "                                 'target_daily_weekday_roll',\n",
      "                                 'target_daily_weekday_emov_fast',\n",
      "                                 'target_daily_weekday_emov_slow']]\n",
      "    weekday_prep = set_time_shift(weekday_prep, 'date', '7D')\n",
      "    return input_df.merge(weekday_prep, on='date', how='left', suffixes=['', '_daily_mean'])"
     ],
     "language": "python",
     "metadata": {},
     "outputs": []
    },
    {
     "cell_type": "code",
     "collapsed": false,
     "input": [
      "df = daily_emovs(df, 'exits')\n",
      "df = daily_weekday_emovs(df, 'exits')"
     ],
     "language": "python",
     "metadata": {},
     "outputs": []
    },
    {
     "cell_type": "heading",
     "level": 3,
     "metadata": {},
     "source": [
      "MAE = mean average error = mean(abs(truth - prediction))"
     ]
    },
    {
     "cell_type": "code",
     "collapsed": false,
     "input": [
      "def evaluate(pred, truth):\n",
      "    mae = np.mean(np.abs(pred - truth))\n",
      "    plt.plot(pred,label='prediction')\n",
      "    plt.plot(truth,label='truth')\n",
      "    plt.title(\"MAE: {:.2f}\".format(mae))\n",
      "    plt.legend()\n",
      "    plt.show()\n",
      "    return mae"
     ],
     "language": "python",
     "metadata": {},
     "outputs": []
    },
    {
     "cell_type": "heading",
     "level": 3,
     "metadata": {},
     "source": [
      "Evaluate prediction models"
     ]
    },
    {
     "cell_type": "code",
     "collapsed": false,
     "input": [
      "y_train = df['exits'][df['in_sample'] == True]\n",
      "y_test = df['exits'][df['in_sample'] == False]"
     ],
     "language": "python",
     "metadata": {},
     "outputs": []
    },
    {
     "cell_type": "heading",
     "level": 4,
     "metadata": {},
     "source": [
      "Model 1"
     ]
    },
    {
     "cell_type": "code",
     "collapsed": false,
     "input": [
      "pred_1_in = df['exits_yesterday'][df['in_sample'] == True]\n",
      "pred_1_out = df['exits_yesterday'][df['in_sample'] == False]                                \n",
      "mae_in_1 = evaluate(pred_1_in, y_train)\n",
      "mae_out_1 = evaluate(pred_1_out, y_test)"
     ],
     "language": "python",
     "metadata": {},
     "outputs": []
    },
    {
     "cell_type": "heading",
     "level": 4,
     "metadata": {},
     "source": [
      "Model 2"
     ]
    },
    {
     "cell_type": "code",
     "collapsed": false,
     "input": [
      "pred_2_in = df['exits_last_week'][df['in_sample'] == True]\n",
      "pred_2_out = df['exits_last_week'][df['in_sample'] == False]\n",
      "mae_in_2 = evaluate(pred_2_in, y_train)\n",
      "mae_out_2 = evaluate(pred_2_out, y_test)"
     ],
     "language": "python",
     "metadata": {},
     "outputs": []
    },
    {
     "cell_type": "heading",
     "level": 4,
     "metadata": {},
     "source": [
      "Model 3"
     ]
    },
    {
     "cell_type": "code",
     "collapsed": false,
     "input": [
      "pred_3_in = df['target_daily_emov_fast'][df['in_sample'] == True]\n",
      "pred_3_out = df['target_daily_emov_fast'][df['in_sample'] == False]\n",
      "mae_in_3 = evaluate(pred_3_in, y_train)\n",
      "mae_out_3 = evaluate(pred_3_out, y_test)"
     ],
     "language": "python",
     "metadata": {},
     "outputs": []
    },
    {
     "cell_type": "heading",
     "level": 4,
     "metadata": {},
     "source": [
      "Model 4"
     ]
    },
    {
     "cell_type": "code",
     "collapsed": false,
     "input": [
      "pred_4_in = df['target_daily_weekday_emov_fast'][df['in_sample'] == True]\n",
      "pred_4_out = df['target_daily_weekday_emov_fast'][df['in_sample'] == False]\n",
      "mae_in_4 = evaluate(pred_4_in, y_train)\n",
      "mae_out_4 = evaluate(pred_4_out, y_test)"
     ],
     "language": "python",
     "metadata": {},
     "outputs": []
    },
    {
     "cell_type": "code",
     "collapsed": false,
     "input": [
      "print 'MAE in sample: model 1: {:.1f} , model 2: {:.1f}, model 3: {:.1f}, model 4: {:.1f}'.format(\n",
      "    mae_in_1, mae_in_2, mae_in_3, mae_in_4)"
     ],
     "language": "python",
     "metadata": {},
     "outputs": []
    },
    {
     "cell_type": "code",
     "collapsed": false,
     "input": [
      "print 'MAE out of sample: model 1: {:.1f}, model 2: {:.1f}, model 3: {:.1f}, model 4: {:.1f}'.format(\n",
      "    mae_out_1, mae_out_2, mae_out_3, mae_out_4)"
     ],
     "language": "python",
     "metadata": {},
     "outputs": []
    },
    {
     "cell_type": "code",
     "collapsed": false,
     "input": [
      "print y_train.mean(), y_test.mean()"
     ],
     "language": "python",
     "metadata": {},
     "outputs": []
    }
   ],
   "metadata": {}
  }
 ]
}