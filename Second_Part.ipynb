{
 "metadata": {
  "name": "",
  "signature": "sha256:9b4963cb9a49844e09a67a9e93358620ccb3eb04ad3ef90fb146744dc6969ac0"
 },
 "nbformat": 3,
 "nbformat_minor": 0,
 "worksheets": [
  {
   "cells": [
    {
     "cell_type": "heading",
     "level": 4,
     "metadata": {},
     "source": [
      "Exponential moving averages"
     ]
    },
    {
     "cell_type": "code",
     "collapsed": false,
     "input": [
      "import pandas as pd\n",
      "import numpy as np\n",
      "import datetime as dt\n",
      "from matplotlib import pyplot as plt "
     ],
     "language": "python",
     "metadata": {},
     "outputs": []
    },
    {
     "cell_type": "code",
     "collapsed": false,
     "input": [
      "df_fulton_street = pd.read_csv(\"fulton_street_23052010_31122013_linear_interpolated_aggregated.csv\", sep=';')\n",
      "df_fulton_street = df_fulton_street.reset_index()"
     ],
     "language": "python",
     "metadata": {},
     "outputs": []
    },
    {
     "cell_type": "code",
     "collapsed": false,
     "input": [
      "df_fulton_street['Date'] = df_fulton_street['Date'].apply(lambda x: dt.datetime.strptime(x,'%Y-%m-%d %H:%M:%S'))"
     ],
     "language": "python",
     "metadata": {},
     "outputs": []
    },
    {
     "cell_type": "code",
     "collapsed": false,
     "input": [
      "def set_time_shift(dataframe, index_column, shift_freq):\n",
      "    dataframe = dataframe.set_index(index_column)\n",
      "    dataframe.index = dataframe.index.shift(1, freq=shift_freq)\n",
      "    return dataframe.reset_index()"
     ],
     "language": "python",
     "metadata": {},
     "outputs": []
    },
    {
     "cell_type": "code",
     "collapsed": false,
     "input": [
      "def get_daily_emovs(input_df, column):\n",
      "    rolling_window=10\n",
      "    emov_fast_c=0.05\n",
      "    emov_slow_c=1\n",
      "    daily_mean = input_df.groupby(['Date'], as_index=False)[column].mean()\n",
      "    daily_mean['target_daily_roll'] = pd.rolling_mean(daily_mean[column], rolling_window, min_periods=1)\n",
      "    daily_mean['target_daily_emov_fast'] = pd.ewma(daily_mean[column], com=emov_fast_c, min_periods=1)\n",
      "    daily_mean['target_daily_emov_slow'] = pd.ewma(daily_mean[column], com=emov_slow_c, min_periods=1)\n",
      "    daily_mean = daily_mean[['Date', 'target_daily_roll', 'target_daily_emov_fast', 'target_daily_emov_slow' ]]  \n",
      "    daily_mean = set_time_shift(daily_mean, 'Date', '1D')\n",
      "    return input_df.merge(daily_mean, on='Date', suffixes=['', '_daily_mean'])"
     ],
     "language": "python",
     "metadata": {},
     "outputs": []
    },
    {
     "cell_type": "code",
     "collapsed": false,
     "input": [
      "def get_daily_weekday_emovs(input_df, column):\n",
      "    rolling_window=4\n",
      "    emov_fast_c=0.05\n",
      "    emov_slow_c=1\n",
      "    weekday_prep = pd.DataFrame()\n",
      "    weekday_group = input_df.groupby(['weekday'])\n",
      "    for _, group in weekday_group:\n",
      "        group['target_daily_weekday_roll'] = pd.rolling_mean(group[column], rolling_window, min_periods=1)\n",
      "        group['target_daily_weekday_emov_fast'] = pd.ewma(group[column], com=emov_fast_c, min_periods=1)\n",
      "        group['target_daily_weekday_emov_slow'] = pd.ewma(group[column], com=emov_slow_c, min_periods=1)\n",
      "        weekday_prep = pd.concat([weekday_prep, group])\n",
      "    weekday_prep = weekday_prep[['Date','target_daily_weekday_roll', 'target_daily_weekday_emov_fast', 'target_daily_weekday_emov_slow']]\n",
      "    weekday_prep = set_time_shift(weekday_prep, 'Date', '7D')\n",
      "    return input_df.merge(weekday_prep, on='Date', suffixes=['', '_daily_mean'])"
     ],
     "language": "python",
     "metadata": {},
     "outputs": []
    },
    {
     "cell_type": "heading",
     "level": 4,
     "metadata": {},
     "source": [
      "Simple model"
     ]
    },
    {
     "cell_type": "code",
     "collapsed": false,
     "input": [
      "# Model 1\n",
      "df_fulton_street['exits_yesterday']=df_fulton_street['exits'].shift(1)\n",
      "# Model 2\n",
      "df_fulton_street['exits_last_week']=df_fulton_street['exits'].shift(7)"
     ],
     "language": "python",
     "metadata": {},
     "outputs": []
    },
    {
     "cell_type": "heading",
     "level": 3,
     "metadata": {},
     "source": [
      "MAE = MEAN AVERAGE ERROR = MEAN(ABS(TRUTH - PREDICTION))"
     ]
    },
    {
     "cell_type": "code",
     "collapsed": false,
     "input": [
      "def evaluate(pred, truth):\n",
      "    mae = np.mean(np.abs(pred - truth))\n",
      "    plt.plot(pred,label='prediction')\n",
      "    plt.plot(truth,label='truth')\n",
      "    plt.title(\"MAE: {0}\".format(mae))\n",
      "    plt.legend()\n",
      "    plt.show()\n",
      "    return mae"
     ],
     "language": "python",
     "metadata": {},
     "outputs": []
    },
    {
     "cell_type": "heading",
     "level": 3,
     "metadata": {},
     "source": [
      "Calculate EWMAs"
     ]
    },
    {
     "cell_type": "code",
     "collapsed": false,
     "input": [
      "df_fulton_street  = get_daily_emovs(df_fulton_street, 'exits')"
     ],
     "language": "python",
     "metadata": {},
     "outputs": []
    },
    {
     "cell_type": "code",
     "collapsed": false,
     "input": [
      "df_fulton_street.head(20) "
     ],
     "language": "python",
     "metadata": {},
     "outputs": []
    },
    {
     "cell_type": "code",
     "collapsed": false,
     "input": [
      "df_fulton_street = get_daily_weekday_emovs(df_fulton_street, 'exits')"
     ],
     "language": "python",
     "metadata": {},
     "outputs": []
    },
    {
     "cell_type": "code",
     "collapsed": false,
     "input": [
      "df_fulton_street.head(10)"
     ],
     "language": "python",
     "metadata": {},
     "outputs": []
    },
    {
     "cell_type": "heading",
     "level": 4,
     "metadata": {},
     "source": [
      "Test single EWMA model"
     ]
    },
    {
     "cell_type": "code",
     "collapsed": false,
     "input": [
      "y_train = df_fulton_street['exits'][df_fulton_street['in_sample']==True]\n",
      "y_test = df_fulton_street['exits'][df_fulton_street['in_sample']==False]"
     ],
     "language": "python",
     "metadata": {},
     "outputs": []
    },
    {
     "cell_type": "code",
     "collapsed": false,
     "input": [
      "# Model 1\n",
      "pred_1_in = df_fulton_street['exits_yesterday'][df_fulton_street['in_sample']==True]\n",
      "pred_1_out = df_fulton_street['exits_yesterday'][df_fulton_street['in_sample']==False]\n",
      "                                                "
     ],
     "language": "python",
     "metadata": {},
     "outputs": []
    },
    {
     "cell_type": "code",
     "collapsed": false,
     "input": [
      "mae_in_1 = evaluate(pred_1_in,y_train)"
     ],
     "language": "python",
     "metadata": {},
     "outputs": []
    },
    {
     "cell_type": "code",
     "collapsed": false,
     "input": [
      "mae_out_1 = evaluate(pred_1_out,y_test)"
     ],
     "language": "python",
     "metadata": {},
     "outputs": []
    },
    {
     "cell_type": "code",
     "collapsed": false,
     "input": [
      "# Model 2\n",
      "pred_2_in = df_fulton_street['exits_last_week'][df_fulton_street['in_sample']==True]\n",
      "pred_2_out = df_fulton_street['exits_last_week'][df_fulton_street['in_sample']==False]"
     ],
     "language": "python",
     "metadata": {},
     "outputs": []
    },
    {
     "cell_type": "code",
     "collapsed": false,
     "input": [
      "mae_in_2 = evaluate(pred_2_in,y_train)"
     ],
     "language": "python",
     "metadata": {},
     "outputs": []
    },
    {
     "cell_type": "code",
     "collapsed": false,
     "input": [
      "mae_out_2 = evaluate(pred_2_out,y_test)"
     ],
     "language": "python",
     "metadata": {},
     "outputs": []
    },
    {
     "cell_type": "code",
     "collapsed": false,
     "input": [
      "# Model 3\n",
      "pred_3_in =  df_fulton_street['target_daily_emov_fast'][df_fulton_street['in_sample']==True]\n",
      "pred_3_out = df_fulton_street['target_daily_emov_fast'][df_fulton_street['in_sample']==False]"
     ],
     "language": "python",
     "metadata": {},
     "outputs": []
    },
    {
     "cell_type": "code",
     "collapsed": false,
     "input": [
      "mae_in_3 = evaluate(pred_3_in,y_train)\n",
      "mae_out_3 =evaluate(pred_3_out,y_test)"
     ],
     "language": "python",
     "metadata": {},
     "outputs": []
    },
    {
     "cell_type": "code",
     "collapsed": false,
     "input": [
      "# Model 4\n",
      "pred_4_in = df_fulton_street['target_daily_weekday_emov_fast'][df_fulton_street['in_sample']==True]\n",
      "pred_4_out = df_fulton_street['target_daily_weekday_emov_fast'][df_fulton_street['in_sample']==False]"
     ],
     "language": "python",
     "metadata": {},
     "outputs": []
    },
    {
     "cell_type": "code",
     "collapsed": false,
     "input": [
      "mae_in_4 = evaluate(pred_4_in,y_train)\n",
      "mae_out_4 = evaluate(pred_4_out,y_test)"
     ],
     "language": "python",
     "metadata": {},
     "outputs": []
    },
    {
     "cell_type": "code",
     "collapsed": false,
     "input": [
      "print 'In Sample 1 : %s , In Sample 2 : %s , In Sample 3 : %s ,In Sample 4 : %s ' %(mae_in_1,mae_in_2,mae_in_3,mae_in_4)"
     ],
     "language": "python",
     "metadata": {},
     "outputs": []
    },
    {
     "cell_type": "code",
     "collapsed": false,
     "input": [
      "print 'Out Sample 1 : %s , Out Sample 2 : %s , Out Sample 3 : %s ,Out Sample 4 : %s ' %(mae_out_1,mae_out_2,mae_out_3,mae_out_4)"
     ],
     "language": "python",
     "metadata": {},
     "outputs": []
    },
    {
     "cell_type": "code",
     "collapsed": false,
     "input": [
      "print y_train.mean(),y_test.mean()"
     ],
     "language": "python",
     "metadata": {},
     "outputs": []
    },
    {
     "cell_type": "code",
     "collapsed": false,
     "input": [],
     "language": "python",
     "metadata": {},
     "outputs": []
    }
   ],
   "metadata": {}
  }
 ]
}