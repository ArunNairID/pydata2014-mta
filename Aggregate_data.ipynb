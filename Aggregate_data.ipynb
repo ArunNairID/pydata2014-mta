{
 "metadata": {
  "name": "",
  "signature": "sha256:5602dc63e25fbe2da8ca03e812467621a8091cb304fc710ad929fa75014f3ea5"
 },
 "nbformat": 3,
 "nbformat_minor": 0,
 "worksheets": [
  {
   "cells": [
    {
     "cell_type": "heading",
     "level": 3,
     "metadata": {},
     "source": [
      "Add columns and aggregate interpolated data to daily timeseries"
     ]
    },
    {
     "cell_type": "code",
     "collapsed": false,
     "input": [
      "import pandas as pd\n",
      "import numpy as np\n",
      "import datetime as dt\n",
      "from matplotlib import pyplot as plt "
     ],
     "language": "python",
     "metadata": {},
     "outputs": []
    },
    {
     "cell_type": "code",
     "collapsed": false,
     "input": [
      "parse = lambda x: dt.datetime.strptime(x,'%Y-%m-%d %H:%M:%S')\n",
      "df_fulton_street = pd.read_csv(\"fulton_street_G_23052010_31122013_linear_interpolated.csv\",parse_dates = [0],date_parser = parse, sep=';')"
     ],
     "language": "python",
     "metadata": {},
     "outputs": []
    },
    {
     "cell_type": "code",
     "collapsed": false,
     "input": [
      "groupby_for_stations = df_fulton_street.groupby(['time'])['exits','in_sample'].sum()\n",
      "for_stations=pd.DataFrame(groupby_for_stations).reset_index()"
     ],
     "language": "python",
     "metadata": {},
     "outputs": []
    },
    {
     "cell_type": "heading",
     "level": 4,
     "metadata": {},
     "source": [
      "Add year/month/day/weekday information"
     ]
    },
    {
     "cell_type": "code",
     "collapsed": false,
     "input": [
      "for_stations['year'] = for_stations['time'].map(lambda x: x.year)\n",
      "for_stations['month'] = for_stations['time'].map(lambda x: x.month)\n",
      "for_stations['day'] = for_stations['time'].map(lambda x: x.day)\n",
      "for_stations['weekday'] = for_stations['time'].map(lambda x: x.weekday())"
     ],
     "language": "python",
     "metadata": {},
     "outputs": []
    },
    {
     "cell_type": "heading",
     "level": 4,
     "metadata": {},
     "source": [
      "Group by year,month,day and weekday"
     ]
    },
    {
     "cell_type": "code",
     "collapsed": false,
     "input": [
      "df_fulton_street_sum = for_stations.groupby(['year','month','day','weekday'])['exits','in_sample'].sum()"
     ],
     "language": "python",
     "metadata": {},
     "outputs": []
    },
    {
     "cell_type": "heading",
     "level": 4,
     "metadata": {},
     "source": [
      "Rewrite in_sample flag"
     ]
    },
    {
     "cell_type": "code",
     "collapsed": false,
     "input": [
      "df_fulton_street_sum['in_sample'] = df_fulton_street_sum['in_sample'].apply( lambda x : True if x>0 else False )"
     ],
     "language": "python",
     "metadata": {},
     "outputs": []
    },
    {
     "cell_type": "code",
     "collapsed": false,
     "input": [
      "df_fulton_street_sum.head()"
     ],
     "language": "python",
     "metadata": {},
     "outputs": []
    },
    {
     "cell_type": "code",
     "collapsed": false,
     "input": [
      "def return_date(y,m,d):\n",
      "    from datetime import datetime\n",
      "    return datetime(int(y),int(m),int(d))"
     ],
     "language": "python",
     "metadata": {},
     "outputs": []
    },
    {
     "cell_type": "code",
     "collapsed": false,
     "input": [
      "df_fulton_street_sum = df_fulton_street_sum.reset_index()\n",
      "df_fulton_street_sum['Date'] = map(return_date,df_fulton_street_sum['year'],df_fulton_street_sum['month'],df_fulton_street_sum['day'])\n",
      "df_fulton_street_sum = df_fulton_street_sum.sort('Date')"
     ],
     "language": "python",
     "metadata": {},
     "outputs": []
    },
    {
     "cell_type": "code",
     "collapsed": false,
     "input": [
      "df_fulton_street_sum.to_csv('fulton_street_G_23052010_31122013_linear_interpolated_aggregated.csv',sep=';', index=False)"
     ],
     "language": "python",
     "metadata": {},
     "outputs": []
    },
    {
     "cell_type": "code",
     "collapsed": false,
     "input": [],
     "language": "python",
     "metadata": {},
     "outputs": []
    }
   ],
   "metadata": {}
  }
 ]
}