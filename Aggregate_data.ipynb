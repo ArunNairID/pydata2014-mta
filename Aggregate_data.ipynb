{
 "metadata": {
  "name": "",
  "signature": "sha256:2f85f022d40f31bb71a1f78e2d0448bf4061f4faea90f950b7efa2d94a69eb9e"
 },
 "nbformat": 3,
 "nbformat_minor": 0,
 "worksheets": [
  {
   "cells": [
    {
     "cell_type": "heading",
     "level": 3,
     "metadata": {},
     "source": [
      "Add columns and aggregate interpolated data to daily timeseries"
     ]
    },
    {
     "cell_type": "code",
     "collapsed": false,
     "input": [
      "import numpy as np\n",
      "import pandas as pd\n",
      "from matplotlib import pyplot as plt"
     ],
     "language": "python",
     "metadata": {},
     "outputs": []
    },
    {
     "cell_type": "code",
     "collapsed": false,
     "input": [
      "df = pd.read_csv(\"fulton_street_G_23052010_31122013_linear_interpolated.csv\",\n",
      "                 index_col=0,\n",
      "                 parse_dates=True,\n",
      "                 sep=';')"
     ],
     "language": "python",
     "metadata": {},
     "outputs": []
    },
    {
     "cell_type": "heading",
     "level": 3,
     "metadata": {},
     "source": [
      "Aggregate to daily timeseries"
     ]
    },
    {
     "cell_type": "code",
     "collapsed": false,
     "input": [
      "df['date'] = df.index.map(lambda x: x.date())\n",
      "df = df.groupby('date')[['exits']].sum()\n",
      "df.reset_index(inplace=True)"
     ],
     "language": "python",
     "metadata": {},
     "outputs": []
    },
    {
     "cell_type": "heading",
     "level": 3,
     "metadata": {},
     "source": [
      "Add year/month/day/weekday information"
     ]
    },
    {
     "cell_type": "code",
     "collapsed": false,
     "input": [
      "df['year'] = df['date'].map(lambda x: x.year)\n",
      "df['month'] = df['date'].map(lambda x: x.month)\n",
      "df['day'] = df['date'].map(lambda x: x.day)\n",
      "df['weekday'] = df['date'].map(lambda x: x.weekday())"
     ],
     "language": "python",
     "metadata": {},
     "outputs": []
    },
    {
     "cell_type": "heading",
     "level": 3,
     "metadata": {},
     "source": [
      "Define training sample"
     ]
    },
    {
     "cell_type": "code",
     "collapsed": false,
     "input": [
      "import datetime as dt\n",
      "df['in_sample'] = [x <= dt.date(2013, 1, 1) for x in df['date']]"
     ],
     "language": "python",
     "metadata": {},
     "outputs": []
    },
    {
     "cell_type": "code",
     "collapsed": false,
     "input": [
      "df.to_csv('fulton_street_G_23052010_31122013_linear_interpolated_aggregated.csv',\n",
      "          sep=';',\n",
      "          index=False)"
     ],
     "language": "python",
     "metadata": {},
     "outputs": []
    }
   ],
   "metadata": {}
  }
 ]
}