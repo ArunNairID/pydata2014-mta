{
 "metadata": {
  "name": "Aggregate_data"
 },
 "nbformat": 3,
 "nbformat_minor": 0,
 "worksheets": [
  {
   "cells": [
    {
     "cell_type": "heading",
     "level": 3,
     "metadata": {},
     "source": [
      "Add columns and aggregate interpolated data to daily timeseries"
     ]
    },
    {
     "cell_type": "code",
     "collapsed": false,
     "input": [
      "import pandas as pd\n",
      "import numpy as np\n",
      "import datetime as dt\n",
      "from matplotlib import pyplot as plt "
     ],
     "language": "python",
     "metadata": {},
     "outputs": [
      {
       "output_type": "stream",
       "stream": "stderr",
       "text": [
        "/home/PHI-TPS/pmack/virtualenv_pm_vasco/VirtualEnv/local/lib/python2.7/site-packages/pandas/io/excel.py:626: UserWarning: Installed openpyxl is not supported at this time. Use >=1.6.1 and <2.0.0.\n",
        "  .format(openpyxl_compat.start_ver, openpyxl_compat.stop_ver))\n"
       ]
      }
     ],
     "prompt_number": 1
    },
    {
     "cell_type": "code",
     "collapsed": false,
     "input": [
      "parse = lambda x: dt.datetime.strptime(x,'%Y-%m-%d %H:%M:%S')\n",
      "df_fulton_street = pd.read_csv(\"fulton_street_23052010_31122013_linear_interpolated.csv\",parse_dates = [0],date_parser = parse, sep=';')"
     ],
     "language": "python",
     "metadata": {},
     "outputs": [],
     "prompt_number": 2
    },
    {
     "cell_type": "code",
     "collapsed": false,
     "input": [
      "groupby_for_stations = df_fulton_street.groupby(['time'])['exits','in_sample'].sum()\n",
      "for_stations=pd.DataFrame(groupby_for_stations).reset_index()"
     ],
     "language": "python",
     "metadata": {},
     "outputs": [],
     "prompt_number": 3
    },
    {
     "cell_type": "heading",
     "level": 4,
     "metadata": {},
     "source": [
      "Add year/month/day/weekday information"
     ]
    },
    {
     "cell_type": "code",
     "collapsed": false,
     "input": [
      "for_stations['year'] = for_stations['time'].map(lambda x: x.year)\n",
      "for_stations['month'] = for_stations['time'].map(lambda x: x.month)\n",
      "for_stations['day'] = for_stations['time'].map(lambda x: x.day)\n",
      "for_stations['weekday'] = for_stations['time'].map(lambda x: x.weekday())"
     ],
     "language": "python",
     "metadata": {},
     "outputs": [],
     "prompt_number": 4
    },
    {
     "cell_type": "heading",
     "level": 4,
     "metadata": {},
     "source": [
      "Group by year,month,day and weekday"
     ]
    },
    {
     "cell_type": "code",
     "collapsed": false,
     "input": [
      "df_fulton_street_sum = for_stations.groupby(['year','month','day','weekday'])['exits','in_sample'].sum()"
     ],
     "language": "python",
     "metadata": {},
     "outputs": [],
     "prompt_number": 5
    },
    {
     "cell_type": "heading",
     "level": 4,
     "metadata": {},
     "source": [
      "Rewrite in_sample flag"
     ]
    },
    {
     "cell_type": "code",
     "collapsed": false,
     "input": [
      "df_fulton_street_sum['in_sample'] = df_fulton_street_sum['in_sample'].apply( lambda x : True if x>0 else False )"
     ],
     "language": "python",
     "metadata": {},
     "outputs": [],
     "prompt_number": 6
    },
    {
     "cell_type": "code",
     "collapsed": false,
     "input": [
      "df_fulton_street_sum.head()"
     ],
     "language": "python",
     "metadata": {},
     "outputs": [
      {
       "html": [
        "<div style=\"max-height:1000px;max-width:1500px;overflow:auto;\">\n",
        "<table border=\"1\" class=\"dataframe\">\n",
        "  <thead>\n",
        "    <tr style=\"text-align: right;\">\n",
        "      <th></th>\n",
        "      <th></th>\n",
        "      <th></th>\n",
        "      <th></th>\n",
        "      <th>exits</th>\n",
        "      <th>in_sample</th>\n",
        "    </tr>\n",
        "    <tr>\n",
        "      <th>year</th>\n",
        "      <th>month</th>\n",
        "      <th>day</th>\n",
        "      <th>weekday</th>\n",
        "      <th></th>\n",
        "      <th></th>\n",
        "    </tr>\n",
        "  </thead>\n",
        "  <tbody>\n",
        "    <tr>\n",
        "      <th rowspan=\"5\" valign=\"top\">2010</th>\n",
        "      <th rowspan=\"5\" valign=\"top\">5</th>\n",
        "      <th>23</th>\n",
        "      <th>6</th>\n",
        "      <td>  4265</td>\n",
        "      <td> True</td>\n",
        "    </tr>\n",
        "    <tr>\n",
        "      <th>24</th>\n",
        "      <th>0</th>\n",
        "      <td> 15955</td>\n",
        "      <td> True</td>\n",
        "    </tr>\n",
        "    <tr>\n",
        "      <th>25</th>\n",
        "      <th>1</th>\n",
        "      <td> 16563</td>\n",
        "      <td> True</td>\n",
        "    </tr>\n",
        "    <tr>\n",
        "      <th>26</th>\n",
        "      <th>2</th>\n",
        "      <td> 16467</td>\n",
        "      <td> True</td>\n",
        "    </tr>\n",
        "    <tr>\n",
        "      <th>27</th>\n",
        "      <th>3</th>\n",
        "      <td> 16188</td>\n",
        "      <td> True</td>\n",
        "    </tr>\n",
        "  </tbody>\n",
        "</table>\n",
        "</div>"
       ],
       "output_type": "pyout",
       "prompt_number": 7,
       "text": [
        "                        exits in_sample\n",
        "year month day weekday                 \n",
        "2010 5     23  6         4265      True\n",
        "           24  0        15955      True\n",
        "           25  1        16563      True\n",
        "           26  2        16467      True\n",
        "           27  3        16188      True"
       ]
      }
     ],
     "prompt_number": 7
    },
    {
     "cell_type": "code",
     "collapsed": false,
     "input": [
      "def return_date(y,m,d):\n",
      "    from datetime import datetime\n",
      "    return datetime(int(y),int(m),int(d))"
     ],
     "language": "python",
     "metadata": {},
     "outputs": [],
     "prompt_number": 8
    },
    {
     "cell_type": "code",
     "collapsed": false,
     "input": [
      "df_fulton_street_sum = df_fulton_street_sum.reset_index()\n",
      "df_fulton_street_sum['Date'] = map(return_date,df_fulton_street_sum['year'],df_fulton_street_sum['month'],df_fulton_street_sum['day'])\n",
      "df_fulton_street_sum = df_fulton_street_sum.sort('Date')"
     ],
     "language": "python",
     "metadata": {},
     "outputs": [],
     "prompt_number": 9
    },
    {
     "cell_type": "code",
     "collapsed": false,
     "input": [
      "df_fulton_street_sum.to_csv('fulton_street_23052010_31122013_linear_interpolated_aggregated.csv',sep=';', index=False)"
     ],
     "language": "python",
     "metadata": {},
     "outputs": [],
     "prompt_number": 11
    },
    {
     "cell_type": "code",
     "collapsed": false,
     "input": [],
     "language": "python",
     "metadata": {},
     "outputs": []
    }
   ],
   "metadata": {}
  }
 ]
}