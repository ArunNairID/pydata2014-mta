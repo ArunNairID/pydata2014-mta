{
 "metadata": {
  "name": "",
  "signature": "sha256:34a0a4e3ccbc011244c66d74609bee2a2743500af66e04c7bd02cf18dd29da49"
 },
 "nbformat": 3,
 "nbformat_minor": 0,
 "worksheets": [
  {
   "cells": [
    {
     "cell_type": "heading",
     "level": 4,
     "metadata": {},
     "source": [
      "Read in aggregated data"
     ]
    },
    {
     "cell_type": "code",
     "collapsed": false,
     "input": [
      "import pandas as pd\n",
      "import numpy as np\n",
      "import datetime as dt\n",
      "from matplotlib import pyplot as plt "
     ],
     "language": "python",
     "metadata": {},
     "outputs": []
    },
    {
     "cell_type": "code",
     "collapsed": false,
     "input": [
      "parse = lambda x: dt.datetime.strptime(x,'%Y-%m-%d %H:%M:%S')\n",
      "df_fulton_street = pd.read_csv(\"fulton_street_G_23052010_31122013_linear_interpolated_aggregated.csv\",parse_dates = 'Date',date_parser = parse, sep=';')"
     ],
     "language": "python",
     "metadata": {},
     "outputs": []
    },
    {
     "cell_type": "code",
     "collapsed": false,
     "input": [
      "df_fulton_street.head()"
     ],
     "language": "python",
     "metadata": {},
     "outputs": []
    },
    {
     "cell_type": "heading",
     "level": 4,
     "metadata": {},
     "source": [
      "Plot data"
     ]
    },
    {
     "cell_type": "code",
     "collapsed": false,
     "input": [
      "df_fulton_street['exits'].plot()\n",
      "plt.legend()\n",
      "plt.show()"
     ],
     "language": "python",
     "metadata": {},
     "outputs": []
    },
    {
     "cell_type": "heading",
     "level": 4,
     "metadata": {},
     "source": [
      "Plot weekday profile"
     ]
    },
    {
     "cell_type": "code",
     "collapsed": false,
     "input": [
      "df_fulton_street_wd_mean = df_fulton_street.groupby(['weekday'])['exits'].mean()\n",
      "df_fulton_street_wd_mean.plot(label='mean exits per weekday')\n",
      "plt.legend()\n",
      "plt.show()"
     ],
     "language": "python",
     "metadata": {},
     "outputs": []
    },
    {
     "cell_type": "heading",
     "level": 4,
     "metadata": {},
     "source": [
      "Plot monthly profile"
     ]
    },
    {
     "cell_type": "code",
     "collapsed": false,
     "input": [
      "df_fulton_street_month_mean = df_fulton_street.groupby(['month'])['exits'].mean()\n",
      "df_fulton_street_month_mean.plot(label='mean exits per month')\n",
      "plt.legend()\n",
      "plt.show()"
     ],
     "language": "python",
     "metadata": {},
     "outputs": []
    },
    {
     "cell_type": "heading",
     "level": 4,
     "metadata": {},
     "source": [
      "Plot exits per year"
     ]
    },
    {
     "cell_type": "code",
     "collapsed": false,
     "input": [
      "df_fulton_street_year_mean = df_fulton_street.groupby(['year'])['exits'].mean()\n",
      "df_fulton_street_year_mean.plot(label='mean exits per year')\n",
      "plt.legend()\n",
      "plt.show()"
     ],
     "language": "python",
     "metadata": {},
     "outputs": []
    },
    {
     "cell_type": "code",
     "collapsed": false,
     "input": [],
     "language": "python",
     "metadata": {},
     "outputs": []
    }
   ],
   "metadata": {}
  }
 ]
}