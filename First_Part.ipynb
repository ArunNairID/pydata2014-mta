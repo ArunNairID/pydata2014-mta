{
 "metadata": {
  "name": "First_Part"
 },
 "nbformat": 3,
 "nbformat_minor": 0,
 "worksheets": [
  {
   "cells": [
    {
     "cell_type": "heading",
     "level": 4,
     "metadata": {},
     "source": [
      "Read in aggregated data"
     ]
    },
    {
     "cell_type": "code",
     "collapsed": false,
     "input": [
      "import pandas as pd\n",
      "import numpy as np\n",
      "import datetime as dt\n",
      "from matplotlib import pyplot as plt "
     ],
     "language": "python",
     "metadata": {},
     "outputs": [
      {
       "output_type": "stream",
       "stream": "stderr",
       "text": [
        "/home/PHI-TPS/pmack/virtualenv_pm_vasco/VirtualEnv/local/lib/python2.7/site-packages/pandas/io/excel.py:626: UserWarning: Installed openpyxl is not supported at this time. Use >=1.6.1 and <2.0.0.\n",
        "  .format(openpyxl_compat.start_ver, openpyxl_compat.stop_ver))\n"
       ]
      }
     ],
     "prompt_number": 1
    },
    {
     "cell_type": "code",
     "collapsed": false,
     "input": [
      "parse = lambda x: dt.datetime.strptime(x,'%Y-%m-%d %H:%M:%S')\n",
      "df_fulton_street = pd.read_csv(\"fulton_street_23052010_31122013_linear_interpolated_aggregated.csv\",parse_dates = 'Date',date_parser = parse, sep=';')"
     ],
     "language": "python",
     "metadata": {},
     "outputs": [],
     "prompt_number": 2
    },
    {
     "cell_type": "code",
     "collapsed": false,
     "input": [
      "df_fulton_street.head()"
     ],
     "language": "python",
     "metadata": {},
     "outputs": [
      {
       "html": [
        "<div style=\"max-height:1000px;max-width:1500px;overflow:auto;\">\n",
        "<table border=\"1\" class=\"dataframe\">\n",
        "  <thead>\n",
        "    <tr style=\"text-align: right;\">\n",
        "      <th></th>\n",
        "      <th>year</th>\n",
        "      <th>month</th>\n",
        "      <th>day</th>\n",
        "      <th>weekday</th>\n",
        "      <th>exits</th>\n",
        "      <th>in_sample</th>\n",
        "      <th>Date</th>\n",
        "    </tr>\n",
        "  </thead>\n",
        "  <tbody>\n",
        "    <tr>\n",
        "      <th>0</th>\n",
        "      <td> 2010</td>\n",
        "      <td> 5</td>\n",
        "      <td> 23</td>\n",
        "      <td> 6</td>\n",
        "      <td>  4265</td>\n",
        "      <td> True</td>\n",
        "      <td> 2010-05-23 00:00:00</td>\n",
        "    </tr>\n",
        "    <tr>\n",
        "      <th>1</th>\n",
        "      <td> 2010</td>\n",
        "      <td> 5</td>\n",
        "      <td> 24</td>\n",
        "      <td> 0</td>\n",
        "      <td> 15955</td>\n",
        "      <td> True</td>\n",
        "      <td> 2010-05-24 00:00:00</td>\n",
        "    </tr>\n",
        "    <tr>\n",
        "      <th>2</th>\n",
        "      <td> 2010</td>\n",
        "      <td> 5</td>\n",
        "      <td> 25</td>\n",
        "      <td> 1</td>\n",
        "      <td> 16563</td>\n",
        "      <td> True</td>\n",
        "      <td> 2010-05-25 00:00:00</td>\n",
        "    </tr>\n",
        "    <tr>\n",
        "      <th>3</th>\n",
        "      <td> 2010</td>\n",
        "      <td> 5</td>\n",
        "      <td> 26</td>\n",
        "      <td> 2</td>\n",
        "      <td> 16467</td>\n",
        "      <td> True</td>\n",
        "      <td> 2010-05-26 00:00:00</td>\n",
        "    </tr>\n",
        "    <tr>\n",
        "      <th>4</th>\n",
        "      <td> 2010</td>\n",
        "      <td> 5</td>\n",
        "      <td> 27</td>\n",
        "      <td> 3</td>\n",
        "      <td> 16188</td>\n",
        "      <td> True</td>\n",
        "      <td> 2010-05-27 00:00:00</td>\n",
        "    </tr>\n",
        "  </tbody>\n",
        "</table>\n",
        "</div>"
       ],
       "output_type": "pyout",
       "prompt_number": 3,
       "text": [
        "   year  month  day  weekday  exits in_sample                 Date\n",
        "0  2010      5   23        6   4265      True  2010-05-23 00:00:00\n",
        "1  2010      5   24        0  15955      True  2010-05-24 00:00:00\n",
        "2  2010      5   25        1  16563      True  2010-05-25 00:00:00\n",
        "3  2010      5   26        2  16467      True  2010-05-26 00:00:00\n",
        "4  2010      5   27        3  16188      True  2010-05-27 00:00:00"
       ]
      }
     ],
     "prompt_number": 3
    },
    {
     "cell_type": "heading",
     "level": 4,
     "metadata": {},
     "source": [
      "Plot data"
     ]
    },
    {
     "cell_type": "code",
     "collapsed": false,
     "input": [
      "df_fulton_street['exits'].plot()\n",
      "plt.legend()\n",
      "plt.show()"
     ],
     "language": "python",
     "metadata": {},
     "outputs": [],
     "prompt_number": 4
    },
    {
     "cell_type": "heading",
     "level": 4,
     "metadata": {},
     "source": [
      "Plot weekday profile"
     ]
    },
    {
     "cell_type": "code",
     "collapsed": false,
     "input": [
      "df_fulton_street_wd_mean = df_fulton_street.groupby(['weekday'])['exits'].mean()\n",
      "df_fulton_street_wd_mean.plot(label='mean exits per weekday')\n",
      "plt.legend()\n",
      "plt.show()"
     ],
     "language": "python",
     "metadata": {},
     "outputs": [],
     "prompt_number": 5
    },
    {
     "cell_type": "heading",
     "level": 4,
     "metadata": {},
     "source": [
      "Plot monthly profile"
     ]
    },
    {
     "cell_type": "code",
     "collapsed": false,
     "input": [
      "df_fulton_street_month_mean = df_fulton_street.groupby(['month'])['exits'].mean()\n",
      "df_fulton_street_month_mean.plot(label='mean exits per month')\n",
      "plt.legend()\n",
      "plt.show()"
     ],
     "language": "python",
     "metadata": {},
     "outputs": [],
     "prompt_number": 6
    },
    {
     "cell_type": "heading",
     "level": 4,
     "metadata": {},
     "source": [
      "Plot exits per year"
     ]
    },
    {
     "cell_type": "code",
     "collapsed": false,
     "input": [
      "df_fulton_street_year_mean = df_fulton_street.groupby(['year'])['exits'].mean()\n",
      "df_fulton_street_year_mean.plot(label='mean exits per year')\n",
      "plt.legend()\n",
      "plt.show()"
     ],
     "language": "python",
     "metadata": {},
     "outputs": [],
     "prompt_number": 7
    },
    {
     "cell_type": "code",
     "collapsed": false,
     "input": [],
     "language": "python",
     "metadata": {},
     "outputs": []
    }
   ],
   "metadata": {}
  }
 ]
}