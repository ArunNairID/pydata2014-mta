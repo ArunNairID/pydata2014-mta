{
 "metadata": {
  "name": "Raw_data"
 },
 "nbformat": 3,
 "nbformat_minor": 0,
 "worksheets": [
  {
   "cells": [
    {
     "cell_type": "heading",
     "level": 2,
     "metadata": {},
     "source": [
      "First look at the raw data : \n",
      "Fulton Street / Lafayette Avenue (IND Crosstown Line) serves the G-Line in Brooklyn"
     ]
    },
    {
     "cell_type": "code",
     "collapsed": false,
     "input": [
      "import pandas as pd\n",
      "import numpy as np\n",
      "import datetime as dt\n",
      "from matplotlib import pyplot as plt "
     ],
     "language": "python",
     "metadata": {},
     "outputs": [
      {
       "output_type": "stream",
       "stream": "stderr",
       "text": [
        "/home/PHI-TPS/pmack/virtualenv_pm_vasco/VirtualEnv/local/lib/python2.7/site-packages/pandas/io/excel.py:626: UserWarning: Installed openpyxl is not supported at this time. Use >=1.6.1 and <2.0.0.\n",
        "  .format(openpyxl_compat.start_ver, openpyxl_compat.stop_ver))\n"
       ]
      }
     ],
     "prompt_number": 1
    },
    {
     "cell_type": "heading",
     "level": 3,
     "metadata": {},
     "source": [
      "Read raw data"
     ]
    },
    {
     "cell_type": "code",
     "collapsed": false,
     "input": [
      "parse = lambda x: dt.datetime.strptime(x,'%Y-%m-%d %H:%M:%S')\n",
      "df = pd.read_csv(\"fulton_street_23052010_31122013_raw.csv\", parse_dates = [0], date_parser=parse, index_col=False, sep=\";\")\n",
      "print df.columns.tolist()"
     ],
     "language": "python",
     "metadata": {},
     "outputs": [
      {
       "output_type": "stream",
       "stream": "stdout",
       "text": [
        "['time', 'entries', 'exits', 'station']\n"
       ]
      }
     ],
     "prompt_number": 2
    },
    {
     "cell_type": "code",
     "collapsed": false,
     "input": [
      "df.head()"
     ],
     "language": "python",
     "metadata": {},
     "outputs": [
      {
       "html": [
        "<div style=\"max-height:1000px;max-width:1500px;overflow:auto;\">\n",
        "<table border=\"1\" class=\"dataframe\">\n",
        "  <thead>\n",
        "    <tr style=\"text-align: right;\">\n",
        "      <th></th>\n",
        "      <th>time</th>\n",
        "      <th>entries</th>\n",
        "      <th>exits</th>\n",
        "      <th>station</th>\n",
        "    </tr>\n",
        "  </thead>\n",
        "  <tbody>\n",
        "    <tr>\n",
        "      <th>0</th>\n",
        "      <td>2010-05-23 00:00:00</td>\n",
        "      <td>  686</td>\n",
        "      <td>  751</td>\n",
        "      <td> FULTON ST</td>\n",
        "    </tr>\n",
        "    <tr>\n",
        "      <th>1</th>\n",
        "      <td>2010-05-23 04:00:00</td>\n",
        "      <td>   99</td>\n",
        "      <td>  127</td>\n",
        "      <td> FULTON ST</td>\n",
        "    </tr>\n",
        "    <tr>\n",
        "      <th>2</th>\n",
        "      <td>2010-05-23 08:00:00</td>\n",
        "      <td>  392</td>\n",
        "      <td>  427</td>\n",
        "      <td> FULTON ST</td>\n",
        "    </tr>\n",
        "    <tr>\n",
        "      <th>3</th>\n",
        "      <td>2010-05-23 12:00:00</td>\n",
        "      <td> 1207</td>\n",
        "      <td> 1200</td>\n",
        "      <td> FULTON ST</td>\n",
        "    </tr>\n",
        "    <tr>\n",
        "      <th>4</th>\n",
        "      <td>2010-05-23 16:00:00</td>\n",
        "      <td> 1923</td>\n",
        "      <td> 1133</td>\n",
        "      <td> FULTON ST</td>\n",
        "    </tr>\n",
        "  </tbody>\n",
        "</table>\n",
        "</div>"
       ],
       "output_type": "pyout",
       "prompt_number": 3,
       "text": [
        "                 time  entries  exits    station\n",
        "0 2010-05-23 00:00:00      686    751  FULTON ST\n",
        "1 2010-05-23 04:00:00       99    127  FULTON ST\n",
        "2 2010-05-23 08:00:00      392    427  FULTON ST\n",
        "3 2010-05-23 12:00:00     1207   1200  FULTON ST\n",
        "4 2010-05-23 16:00:00     1923   1133  FULTON ST"
       ]
      }
     ],
     "prompt_number": 3
    },
    {
     "cell_type": "heading",
     "level": 3,
     "metadata": {},
     "source": [
      "Plot timeseries"
     ]
    },
    {
     "cell_type": "code",
     "collapsed": false,
     "input": [
      "df['exits'].plot()\n",
      "plt.show()"
     ],
     "language": "python",
     "metadata": {},
     "outputs": [],
     "prompt_number": 4
    },
    {
     "cell_type": "heading",
     "level": 3,
     "metadata": {},
     "source": [
      "Fill values > 100000 and <0 with NANs"
     ]
    },
    {
     "cell_type": "code",
     "collapsed": false,
     "input": [
      "df['exits'] =  df.exits.apply(lambda x : x if x>0 else np.nan)\n",
      "df['exits'] =  df.exits.apply(lambda x : x if x<100000 else np.nan)"
     ],
     "language": "python",
     "metadata": {},
     "outputs": [],
     "prompt_number": 5
    },
    {
     "cell_type": "heading",
     "level": 3,
     "metadata": {},
     "source": [
      "Mark data"
     ]
    },
    {
     "cell_type": "code",
     "collapsed": false,
     "input": [
      "df['station'][pd.isnull(df['exits'])==True]='FULTON ST interpolated negative or to high value'"
     ],
     "language": "python",
     "metadata": {},
     "outputs": [],
     "prompt_number": 6
    },
    {
     "cell_type": "heading",
     "level": 3,
     "metadata": {},
     "source": [
      "Plot again"
     ]
    },
    {
     "cell_type": "code",
     "collapsed": false,
     "input": [
      "df['exits'].plot()\n",
      "plt.show()"
     ],
     "language": "python",
     "metadata": {},
     "outputs": [],
     "prompt_number": 7
    },
    {
     "cell_type": "heading",
     "level": 3,
     "metadata": {},
     "source": [
      "Find gaps in timeseries"
     ]
    },
    {
     "cell_type": "code",
     "collapsed": false,
     "input": [
      "from datetime import timedelta\n",
      "df['gaps']=(df['time']-df['time'].shift(1))/np.timedelta64(1, 'h')\n"
     ],
     "language": "python",
     "metadata": {},
     "outputs": [],
     "prompt_number": 8
    },
    {
     "cell_type": "code",
     "collapsed": false,
     "input": [
      "df['gaps'].head()"
     ],
     "language": "python",
     "metadata": {},
     "outputs": [
      {
       "output_type": "pyout",
       "prompt_number": 9,
       "text": [
        "0   NaN\n",
        "1     4\n",
        "2     4\n",
        "3     4\n",
        "4     4\n",
        "Name: gaps, dtype: float64"
       ]
      }
     ],
     "prompt_number": 9
    },
    {
     "cell_type": "code",
     "collapsed": false,
     "input": [
      "df[['time','gaps']][df['gaps']!=4].head()"
     ],
     "language": "python",
     "metadata": {},
     "outputs": [
      {
       "html": [
        "<div style=\"max-height:1000px;max-width:1500px;overflow:auto;\">\n",
        "<table border=\"1\" class=\"dataframe\">\n",
        "  <thead>\n",
        "    <tr style=\"text-align: right;\">\n",
        "      <th></th>\n",
        "      <th>time</th>\n",
        "      <th>gaps</th>\n",
        "    </tr>\n",
        "  </thead>\n",
        "  <tbody>\n",
        "    <tr>\n",
        "      <th>0  </th>\n",
        "      <td>2010-05-23 00:00:00</td>\n",
        "      <td>NaN</td>\n",
        "    </tr>\n",
        "    <tr>\n",
        "      <th>36 </th>\n",
        "      <td>2010-05-29 04:00:00</td>\n",
        "      <td>  8</td>\n",
        "    </tr>\n",
        "    <tr>\n",
        "      <th>77 </th>\n",
        "      <td>2010-06-05 04:00:00</td>\n",
        "      <td>  8</td>\n",
        "    </tr>\n",
        "    <tr>\n",
        "      <th>118</th>\n",
        "      <td>2010-06-12 04:00:00</td>\n",
        "      <td>  8</td>\n",
        "    </tr>\n",
        "    <tr>\n",
        "      <th>159</th>\n",
        "      <td>2010-06-19 04:00:00</td>\n",
        "      <td>  8</td>\n",
        "    </tr>\n",
        "  </tbody>\n",
        "</table>\n",
        "</div>"
       ],
       "output_type": "pyout",
       "prompt_number": 10,
       "text": [
        "                   time  gaps\n",
        "0   2010-05-23 00:00:00   NaN\n",
        "36  2010-05-29 04:00:00     8\n",
        "77  2010-06-05 04:00:00     8\n",
        "118 2010-06-12 04:00:00     8\n",
        "159 2010-06-19 04:00:00     8"
       ]
      }
     ],
     "prompt_number": 10
    },
    {
     "cell_type": "heading",
     "level": 4,
     "metadata": {},
     "source": [
      "e.g 2010-05-29 00:00 (saturday morning) is missing "
     ]
    },
    {
     "cell_type": "code",
     "collapsed": false,
     "input": [
      "df[35:38]"
     ],
     "language": "python",
     "metadata": {},
     "outputs": [
      {
       "html": [
        "<div style=\"max-height:1000px;max-width:1500px;overflow:auto;\">\n",
        "<table border=\"1\" class=\"dataframe\">\n",
        "  <thead>\n",
        "    <tr style=\"text-align: right;\">\n",
        "      <th></th>\n",
        "      <th>time</th>\n",
        "      <th>entries</th>\n",
        "      <th>exits</th>\n",
        "      <th>station</th>\n",
        "      <th>gaps</th>\n",
        "    </tr>\n",
        "  </thead>\n",
        "  <tbody>\n",
        "    <tr>\n",
        "      <th>35</th>\n",
        "      <td>2010-05-28 20:00:00</td>\n",
        "      <td> 4116</td>\n",
        "      <td> 1060</td>\n",
        "      <td> FULTON ST</td>\n",
        "      <td> 4</td>\n",
        "    </tr>\n",
        "    <tr>\n",
        "      <th>36</th>\n",
        "      <td>2010-05-29 04:00:00</td>\n",
        "      <td>  177</td>\n",
        "      <td>  189</td>\n",
        "      <td> FULTON ST</td>\n",
        "      <td> 8</td>\n",
        "    </tr>\n",
        "    <tr>\n",
        "      <th>37</th>\n",
        "      <td>2010-05-29 08:00:00</td>\n",
        "      <td>  618</td>\n",
        "      <td>  777</td>\n",
        "      <td> FULTON ST</td>\n",
        "      <td> 4</td>\n",
        "    </tr>\n",
        "  </tbody>\n",
        "</table>\n",
        "</div>"
       ],
       "output_type": "pyout",
       "prompt_number": 11,
       "text": [
        "                  time  entries  exits    station  gaps\n",
        "35 2010-05-28 20:00:00     4116   1060  FULTON ST     4\n",
        "36 2010-05-29 04:00:00      177    189  FULTON ST     8\n",
        "37 2010-05-29 08:00:00      618    777  FULTON ST     4"
       ]
      }
     ],
     "prompt_number": 11
    },
    {
     "cell_type": "heading",
     "level": 3,
     "metadata": {},
     "source": [
      "linear interpolation of gaps"
     ]
    },
    {
     "cell_type": "heading",
     "level": 4,
     "metadata": {},
     "source": [
      "join datarange without gaps"
     ]
    },
    {
     "cell_type": "code",
     "collapsed": false,
     "input": [
      "dr = pd.date_range('2010-05-23 00:00:00', '2013-12-31 16:00:00', freq='4h')\n",
      "test = pd.DataFrame()\n",
      "test['time'] = dr\n",
      "df=pd.merge(test,df, on='time', how='left')"
     ],
     "language": "python",
     "metadata": {},
     "outputs": [],
     "prompt_number": 12
    },
    {
     "cell_type": "code",
     "collapsed": false,
     "input": [
      "df['exits']= df['exits'].interpolate()"
     ],
     "language": "python",
     "metadata": {},
     "outputs": [],
     "prompt_number": 13
    },
    {
     "cell_type": "code",
     "collapsed": false,
     "input": [
      "df['entries']= df['entries'].interpolate()"
     ],
     "language": "python",
     "metadata": {},
     "outputs": [],
     "prompt_number": 14
    },
    {
     "cell_type": "code",
     "collapsed": false,
     "input": [
      "df[35:40]"
     ],
     "language": "python",
     "metadata": {},
     "outputs": [
      {
       "html": [
        "<div style=\"max-height:1000px;max-width:1500px;overflow:auto;\">\n",
        "<table border=\"1\" class=\"dataframe\">\n",
        "  <thead>\n",
        "    <tr style=\"text-align: right;\">\n",
        "      <th></th>\n",
        "      <th>time</th>\n",
        "      <th>entries</th>\n",
        "      <th>exits</th>\n",
        "      <th>station</th>\n",
        "      <th>gaps</th>\n",
        "    </tr>\n",
        "  </thead>\n",
        "  <tbody>\n",
        "    <tr>\n",
        "      <th>35</th>\n",
        "      <td>2010-05-28 20:00:00</td>\n",
        "      <td> 4116.0</td>\n",
        "      <td> 1060.0</td>\n",
        "      <td> FULTON ST</td>\n",
        "      <td>  4</td>\n",
        "    </tr>\n",
        "    <tr>\n",
        "      <th>36</th>\n",
        "      <td>2010-05-29 00:00:00</td>\n",
        "      <td> 2146.5</td>\n",
        "      <td>  624.5</td>\n",
        "      <td>       NaN</td>\n",
        "      <td>NaN</td>\n",
        "    </tr>\n",
        "    <tr>\n",
        "      <th>37</th>\n",
        "      <td>2010-05-29 04:00:00</td>\n",
        "      <td>  177.0</td>\n",
        "      <td>  189.0</td>\n",
        "      <td> FULTON ST</td>\n",
        "      <td>  8</td>\n",
        "    </tr>\n",
        "    <tr>\n",
        "      <th>38</th>\n",
        "      <td>2010-05-29 08:00:00</td>\n",
        "      <td>  618.0</td>\n",
        "      <td>  777.0</td>\n",
        "      <td> FULTON ST</td>\n",
        "      <td>  4</td>\n",
        "    </tr>\n",
        "    <tr>\n",
        "      <th>39</th>\n",
        "      <td>2010-05-29 12:00:00</td>\n",
        "      <td> 2147.0</td>\n",
        "      <td> 1486.0</td>\n",
        "      <td> FULTON ST</td>\n",
        "      <td>  4</td>\n",
        "    </tr>\n",
        "  </tbody>\n",
        "</table>\n",
        "</div>"
       ],
       "output_type": "pyout",
       "prompt_number": 15,
       "text": [
        "                  time  entries   exits    station  gaps\n",
        "35 2010-05-28 20:00:00   4116.0  1060.0  FULTON ST     4\n",
        "36 2010-05-29 00:00:00   2146.5   624.5        NaN   NaN\n",
        "37 2010-05-29 04:00:00    177.0   189.0  FULTON ST     8\n",
        "38 2010-05-29 08:00:00    618.0   777.0  FULTON ST     4\n",
        "39 2010-05-29 12:00:00   2147.0  1486.0  FULTON ST     4"
       ]
      }
     ],
     "prompt_number": 15
    },
    {
     "cell_type": "heading",
     "level": 4,
     "metadata": {},
     "source": [
      "Add in_sample flag and annotation"
     ]
    },
    {
     "cell_type": "code",
     "collapsed": false,
     "input": [
      "df['station'][pd.isnull(df['station'])==True]='FULTON ST interpolated'\n",
      "df['in_sample'] =  df.time.apply(lambda x : True if x<=dt.datetime(2013,1,1) else False)"
     ],
     "language": "python",
     "metadata": {},
     "outputs": [],
     "prompt_number": 16
    },
    {
     "cell_type": "heading",
     "level": 4,
     "metadata": {},
     "source": [
      "Save data"
     ]
    },
    {
     "cell_type": "code",
     "collapsed": false,
     "input": [
      "df = df[(df['time']>='2010-05-23') & (df['time']<='2013-12-31')]\n",
      "df.rename(columns={'station':'annotation'}, inplace=True)\n",
      "df[['time','in_sample',\n",
      " 'exits',\n",
      " 'annotation']].to_csv('test_fulton_street_23052010_31122013_linear_interpolated.csv',sep=';', index=False)"
     ],
     "language": "python",
     "metadata": {},
     "outputs": [],
     "prompt_number": 19
    },
    {
     "cell_type": "code",
     "collapsed": false,
     "input": [],
     "language": "python",
     "metadata": {},
     "outputs": []
    }
   ],
   "metadata": {}
  }
 ]
}