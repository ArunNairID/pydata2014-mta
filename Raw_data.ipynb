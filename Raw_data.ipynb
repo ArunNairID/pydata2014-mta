{
 "metadata": {
  "name": "",
  "signature": "sha256:d669af136e723b6ebc7b6a448977b01eff5ed407660b1cb0161247ec7d8e434a"
 },
 "nbformat": 3,
 "nbformat_minor": 0,
 "worksheets": [
  {
   "cells": [
    {
     "cell_type": "heading",
     "level": 2,
     "metadata": {},
     "source": [
      "First look at the raw data : \n",
      "Fulton Street / Lafayette Avenue (IND Crosstown Line) serves the G-Line in Brooklyn"
     ]
    },
    {
     "cell_type": "code",
     "collapsed": false,
     "input": [
      "import pandas as pd\n",
      "import numpy as np\n",
      "import datetime as dt\n",
      "from matplotlib import pyplot as plt "
     ],
     "language": "python",
     "metadata": {},
     "outputs": []
    },
    {
     "cell_type": "heading",
     "level": 3,
     "metadata": {},
     "source": [
      "Read raw data"
     ]
    },
    {
     "cell_type": "code",
     "collapsed": false,
     "input": [
      "parse = lambda x: dt.datetime.strptime(x,'%Y-%m-%d %H:%M:%S')\n",
      "df = pd.read_csv(\"fulton_street_23052010_31122013_raw.csv\", parse_dates = [0], date_parser=parse, index_col=False, sep=\";\")\n",
      "print df.columns.tolist()"
     ],
     "language": "python",
     "metadata": {},
     "outputs": []
    },
    {
     "cell_type": "code",
     "collapsed": false,
     "input": [
      "df.head()"
     ],
     "language": "python",
     "metadata": {},
     "outputs": []
    },
    {
     "cell_type": "heading",
     "level": 3,
     "metadata": {},
     "source": [
      "Plot timeseries"
     ]
    },
    {
     "cell_type": "code",
     "collapsed": false,
     "input": [
      "df['exits'].plot()\n",
      "plt.show()"
     ],
     "language": "python",
     "metadata": {},
     "outputs": []
    },
    {
     "cell_type": "heading",
     "level": 3,
     "metadata": {},
     "source": [
      "Fill values > 100000 and <0 with NANs"
     ]
    },
    {
     "cell_type": "code",
     "collapsed": false,
     "input": [
      "df['exits'] =  df.exits.apply(lambda x : x if x>0 else np.nan)\n",
      "df['exits'] =  df.exits.apply(lambda x : x if x<100000 else np.nan)"
     ],
     "language": "python",
     "metadata": {},
     "outputs": []
    },
    {
     "cell_type": "heading",
     "level": 3,
     "metadata": {},
     "source": [
      "Mark data"
     ]
    },
    {
     "cell_type": "code",
     "collapsed": false,
     "input": [
      "df['station'][pd.isnull(df['exits'])==True]='FULTON ST interpolated negative or to high value'"
     ],
     "language": "python",
     "metadata": {},
     "outputs": []
    },
    {
     "cell_type": "heading",
     "level": 3,
     "metadata": {},
     "source": [
      "Plot again"
     ]
    },
    {
     "cell_type": "code",
     "collapsed": false,
     "input": [
      "df['exits'].plot()\n",
      "plt.show()"
     ],
     "language": "python",
     "metadata": {},
     "outputs": []
    },
    {
     "cell_type": "heading",
     "level": 3,
     "metadata": {},
     "source": [
      "Find gaps in timeseries"
     ]
    },
    {
     "cell_type": "code",
     "collapsed": false,
     "input": [
      "from datetime import timedelta\n",
      "df['gaps']=(df['time']-df['time'].shift(1))/np.timedelta64(1, 'h')\n"
     ],
     "language": "python",
     "metadata": {},
     "outputs": []
    },
    {
     "cell_type": "code",
     "collapsed": false,
     "input": [
      "df['gaps'].head()"
     ],
     "language": "python",
     "metadata": {},
     "outputs": []
    },
    {
     "cell_type": "code",
     "collapsed": false,
     "input": [
      "df[['time','gaps']][df['gaps']!=4].head()"
     ],
     "language": "python",
     "metadata": {},
     "outputs": []
    },
    {
     "cell_type": "heading",
     "level": 4,
     "metadata": {},
     "source": [
      "e.g 2010-05-29 00:00 (saturday morning) is missing "
     ]
    },
    {
     "cell_type": "code",
     "collapsed": false,
     "input": [
      "df[35:38]"
     ],
     "language": "python",
     "metadata": {},
     "outputs": []
    },
    {
     "cell_type": "heading",
     "level": 3,
     "metadata": {},
     "source": [
      "linear interpolation of gaps"
     ]
    },
    {
     "cell_type": "heading",
     "level": 4,
     "metadata": {},
     "source": [
      "join datarange without gaps"
     ]
    },
    {
     "cell_type": "code",
     "collapsed": false,
     "input": [
      "dr = pd.date_range('2010-05-23 00:00:00', '2013-12-31 16:00:00', freq='4h')\n",
      "test = pd.DataFrame()\n",
      "test['time'] = dr\n",
      "df=pd.merge(test,df, on='time', how='left')"
     ],
     "language": "python",
     "metadata": {},
     "outputs": []
    },
    {
     "cell_type": "code",
     "collapsed": false,
     "input": [
      "df['exits']= df['exits'].interpolate()"
     ],
     "language": "python",
     "metadata": {},
     "outputs": []
    },
    {
     "cell_type": "code",
     "collapsed": false,
     "input": [
      "df['entries']= df['entries'].interpolate()"
     ],
     "language": "python",
     "metadata": {},
     "outputs": []
    },
    {
     "cell_type": "code",
     "collapsed": false,
     "input": [
      "df[35:40]"
     ],
     "language": "python",
     "metadata": {},
     "outputs": []
    },
    {
     "cell_type": "heading",
     "level": 4,
     "metadata": {},
     "source": [
      "Add in_sample flag and annotation"
     ]
    },
    {
     "cell_type": "code",
     "collapsed": false,
     "input": [
      "df['station'][pd.isnull(df['station'])==True]='FULTON ST interpolated'\n",
      "df['in_sample'] =  df.time.apply(lambda x : True if x<=dt.datetime(2013,1,1) else False)"
     ],
     "language": "python",
     "metadata": {},
     "outputs": []
    },
    {
     "cell_type": "heading",
     "level": 4,
     "metadata": {},
     "source": [
      "Save data"
     ]
    },
    {
     "cell_type": "code",
     "collapsed": false,
     "input": [
      "df = df[(df['time']>='2010-05-23') & (df['time']<='2013-12-31')]\n",
      "df.rename(columns={'station':'annotation'}, inplace=True)\n",
      "df[['time','in_sample',\n",
      " 'exits',\n",
      " 'annotation']].to_csv('test_fulton_street_23052010_31122013_linear_interpolated.csv',sep=';', index=False)"
     ],
     "language": "python",
     "metadata": {},
     "outputs": []
    },
    {
     "cell_type": "code",
     "collapsed": false,
     "input": [],
     "language": "python",
     "metadata": {},
     "outputs": []
    }
   ],
   "metadata": {}
  }
 ]
}