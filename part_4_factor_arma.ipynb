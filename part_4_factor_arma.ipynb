{
 "metadata": {
  "name": "",
  "signature": "sha256:f07288bab9da468c5347d26f780d935977b532a261b28464648f7ce4fd5664cd"
 },
 "nbformat": 3,
 "nbformat_minor": 0,
 "worksheets": [
  {
   "cells": [
    {
     "cell_type": "heading",
     "level": 1,
     "metadata": {},
     "source": [
      "Factor model and ARMA models"
     ]
    },
    {
     "cell_type": "code",
     "collapsed": false,
     "input": [
      "import pandas as pd\n",
      "import numpy as np\n",
      "from matplotlib import pyplot as plt "
     ],
     "language": "python",
     "metadata": {},
     "outputs": [],
     "prompt_number": 1
    },
    {
     "cell_type": "code",
     "collapsed": false,
     "input": [
      "df = pd.read_csv('fulton_street_prepared.csv',\n",
      "                 index_col='date',\n",
      "                 parse_dates=True,\n",
      "                 sep=';')"
     ],
     "language": "python",
     "metadata": {},
     "outputs": [],
     "prompt_number": 2
    },
    {
     "cell_type": "heading",
     "level": 3,
     "metadata": {},
     "source": [
      "Remove linear trend"
     ]
    },
    {
     "cell_type": "code",
     "collapsed": false,
     "input": [
      "df.reset_index(inplace=True)\n",
      "df['timeindex'] = (df['date'] - pd.Timestamp('2010-01-01')) / np.timedelta64(1, 'D')\n",
      "df.set_index('date', inplace=True)"
     ],
     "language": "python",
     "metadata": {},
     "outputs": [],
     "prompt_number": 3
    },
    {
     "cell_type": "code",
     "collapsed": false,
     "input": [
      "df_train = df[df['in_sample']]"
     ],
     "language": "python",
     "metadata": {},
     "outputs": []
    },
    {
     "cell_type": "code",
     "collapsed": false,
     "input": [
      "X_train = np.c_[df_train['timeindex']]\n",
      "y_train = df[df['in_sample']]['exits']\n",
      "\n",
      "X_full = np.c_[df['timeindex']]"
     ],
     "language": "python",
     "metadata": {},
     "outputs": [],
     "prompt_number": 4
    },
    {
     "cell_type": "code",
     "collapsed": false,
     "input": [
      "from sklearn import linear_model"
     ],
     "language": "python",
     "metadata": {},
     "outputs": [],
     "prompt_number": 5
    },
    {
     "cell_type": "code",
     "collapsed": false,
     "input": [
      "linreg = linear_model.LinearRegression()"
     ],
     "language": "python",
     "metadata": {},
     "outputs": [],
     "prompt_number": 6
    },
    {
     "cell_type": "code",
     "collapsed": false,
     "input": [
      "linreg.fit(X_train, y_train)"
     ],
     "language": "python",
     "metadata": {},
     "outputs": []
    },
    {
     "cell_type": "code",
     "collapsed": false,
     "input": [
      "df['trend'] = linreg.predict(X_full)"
     ],
     "language": "python",
     "metadata": {},
     "outputs": []
    },
    {
     "cell_type": "code",
     "collapsed": false,
     "input": [
      "df[['exits','trend']].plot()\n",
      "plt.legend()\n",
      "plt.show()"
     ],
     "language": "python",
     "metadata": {},
     "outputs": []
    },
    {
     "cell_type": "code",
     "collapsed": false,
     "input": [
      "df['exits_wo_trend'] = df['exits'] / df['trend']\n",
      "df['exits_wo_trend'].plot()\n",
      "plt.show()"
     ],
     "language": "python",
     "metadata": {},
     "outputs": []
    },
    {
     "cell_type": "heading",
     "level": 2,
     "metadata": {},
     "source": [
      "Factor model"
     ]
    },
    {
     "cell_type": "raw",
     "metadata": {},
     "source": [
      "pred = f(trend) * f(weekday) * f(month)"
     ]
    },
    {
     "cell_type": "code",
     "collapsed": false,
     "input": [
      "df_train = df[df['in_sample']]"
     ],
     "language": "python",
     "metadata": {},
     "outputs": []
    },
    {
     "cell_type": "code",
     "collapsed": false,
     "input": [
      "weekday_factor = df_train.groupby('weekday')['exits_wo_trend'].mean().to_dict()\n",
      "\n",
      "def remove_weekday_profile(row):\n",
      "    return row['exits_wo_trend'] / weekday_factor[x['weekday']]\n",
      "\n",
      "df['exits_wo_trend_and_weekday'] = df.apply(remove_weekday_profile, axis=1)\n",
      "\n",
      "month_factor = df_train.groupby('month')['exits_wo_trend_and_weekday'].mean().to_dict()\n",
      "\n",
      "def remove_month_profile(row):\n",
      "    return row['exits_wo_trend_and_weekday'] / month_factor[row['month']]\n",
      "    \n",
      "df['exits_wo_trend_and_weekday_and_month'] = df.apply(remove_month_profile, axis=1)"
     ],
     "language": "python",
     "metadata": {},
     "outputs": []
    },
    {
     "cell_type": "code",
     "collapsed": false,
     "input": [
      "df['exits_wo_trend_and_weekday_and_month'].plot()\n",
      "plt.show()"
     ],
     "language": "python",
     "metadata": {},
     "outputs": []
    },
    {
     "cell_type": "code",
     "collapsed": false,
     "input": [
      "def factor_model(row):\n",
      "    return row['trend'] * weekday_factor[row['weekday']] * month_factor[row['month']]"
     ],
     "language": "python",
     "metadata": {},
     "outputs": []
    },
    {
     "cell_type": "code",
     "collapsed": false,
     "input": [
      "df_train = df[df['in_sample'] == True]\n",
      "df_test = df[df['in_sample'] == False]"
     ],
     "language": "python",
     "metadata": {},
     "outputs": []
    },
    {
     "cell_type": "code",
     "collapsed": false,
     "input": [
      "df_train['factor_model'] = df_train.apply(staticmodel, axis=1)\n",
      "df_test['factor_model'] = df_tests.apply(staticmodel, axis=1)"
     ],
     "language": "python",
     "metadata": {},
     "outputs": []
    },
    {
     "cell_type": "code",
     "collapsed": false,
     "input": [
      "from evaluation import evaluate"
     ],
     "language": "python",
     "metadata": {},
     "outputs": [],
     "prompt_number": 7
    },
    {
     "cell_type": "code",
     "collapsed": false,
     "input": [
      "evaluate(df_train['factor_model'], df_train['exits'])"
     ],
     "language": "python",
     "metadata": {},
     "outputs": []
    },
    {
     "cell_type": "code",
     "collapsed": false,
     "input": [
      "evaluate(df_test['factor_model'], df_test['exits'])"
     ],
     "language": "python",
     "metadata": {},
     "outputs": []
    },
    {
     "cell_type": "heading",
     "level": 2,
     "metadata": {},
     "source": [
      "ARMA model"
     ]
    },
    {
     "cell_type": "raw",
     "metadata": {},
     "source": [
      "on exits_wo_trend_and_weekday_and_month"
     ]
    },
    {
     "cell_type": "code",
     "collapsed": false,
     "input": [
      "residual_train = df_train['exits_wo_trend_and_weekday_and_month']\n",
      "residual_test = df_test['exits_wo_trend_and_weekday_and_month']"
     ],
     "language": "python",
     "metadata": {},
     "outputs": []
    },
    {
     "cell_type": "heading",
     "level": 3,
     "metadata": {},
     "source": [
      "Plot autocorrelation function and partial autocorrelation function"
     ]
    },
    {
     "cell_type": "code",
     "collapsed": false,
     "input": [
      "from statsmodels.graphics.tsaplots import plot_pacf, plot_acf\n",
      "\n",
      "plot_acf(residual, lags=30)\n",
      "plt.show()\n",
      "\n",
      "plot_pacf(residual, lags=30)\n",
      "plt.show()"
     ],
     "language": "python",
     "metadata": {},
     "outputs": [
      {
       "ename": "NameError",
       "evalue": "name 'residual' is not defined",
       "output_type": "pyerr",
       "traceback": [
        "\u001b[1;31m---------------------------------------------------------------------------\u001b[0m\n\u001b[1;31mNameError\u001b[0m                                 Traceback (most recent call last)",
        "\u001b[1;32m<ipython-input-8-765c8c76a0cb>\u001b[0m in \u001b[0;36m<module>\u001b[1;34m()\u001b[0m\n\u001b[0;32m      1\u001b[0m \u001b[1;32mfrom\u001b[0m \u001b[0mstatsmodels\u001b[0m\u001b[1;33m.\u001b[0m\u001b[0mgraphics\u001b[0m\u001b[1;33m.\u001b[0m\u001b[0mtsaplots\u001b[0m \u001b[1;32mimport\u001b[0m \u001b[0mplot_pacf\u001b[0m\u001b[1;33m,\u001b[0m \u001b[0mplot_acf\u001b[0m\u001b[1;33m\u001b[0m\u001b[0m\n\u001b[0;32m      2\u001b[0m \u001b[1;33m\u001b[0m\u001b[0m\n\u001b[1;32m----> 3\u001b[1;33m \u001b[0mplot_acf\u001b[0m\u001b[1;33m(\u001b[0m\u001b[0mresidual\u001b[0m\u001b[1;33m,\u001b[0m \u001b[0mlags\u001b[0m\u001b[1;33m=\u001b[0m\u001b[1;36m30\u001b[0m\u001b[1;33m)\u001b[0m\u001b[1;33m\u001b[0m\u001b[0m\n\u001b[0m\u001b[0;32m      4\u001b[0m \u001b[0mplt\u001b[0m\u001b[1;33m.\u001b[0m\u001b[0mshow\u001b[0m\u001b[1;33m(\u001b[0m\u001b[1;33m)\u001b[0m\u001b[1;33m\u001b[0m\u001b[0m\n\u001b[0;32m      5\u001b[0m \u001b[1;33m\u001b[0m\u001b[0m\n",
        "\u001b[1;31mNameError\u001b[0m: name 'residual' is not defined"
       ]
      }
     ],
     "prompt_number": 8
    },
    {
     "cell_type": "heading",
     "level": 3,
     "metadata": {},
     "source": [
      "Find best AR and MA lags "
     ]
    },
    {
     "cell_type": "code",
     "collapsed": false,
     "input": [
      "from pydse.arma import minic, ARMA"
     ],
     "language": "python",
     "metadata": {},
     "outputs": [],
     "prompt_number": 9
    },
    {
     "cell_type": "code",
     "collapsed": false,
     "input": [
      "# this takes a few minutes\n",
      "# best_ar_lags, best_ma_lags = minic([1], [1, 2, 3],\n",
      "#                                    residual,\n",
      "#                                    crit='AIC')\n",
      "# print best_ar_lags, best_ma_lags"
     ],
     "language": "python",
     "metadata": {},
     "outputs": []
    },
    {
     "cell_type": "heading",
     "level": 3,
     "metadata": {},
     "source": [
      "Fit ARMA(1, 2) model"
     ]
    },
    {
     "cell_type": "code",
     "collapsed": false,
     "input": [
      "ar_lags = (1,)\n",
      "ma_lags = (1, 2)"
     ],
     "language": "python",
     "metadata": {},
     "outputs": []
    },
    {
     "cell_type": "code",
     "collapsed": false,
     "input": [
      "from pydse.utils import make_lag_arr\n",
      "\n",
      "ar_lag_arr = make_lag_arr(ar_lags)\n",
      "ma_lag_arr = make_lag_arr(ma_lags)\n",
      "\n",
      "print ar_lag_arr\n",
      "print ma_lag_arr\n",
      "\n",
      "arma = ARMA(A=ar_lag_arr,\n",
      "            B=ma_lag_arr,\n",
      "            rand_state=0)\n",
      "\n",
      "arma.fix_constants()\n",
      "\n",
      "arma.est_params(residual)"
     ],
     "language": "python",
     "metadata": {},
     "outputs": []
    },
    {
     "cell_type": "heading",
     "level": 3,
     "metadata": {},
     "source": [
      "Backtransform"
     ]
    },
    {
     "cell_type": "code",
     "collapsed": false,
     "input": [
      "prediction = arma.forecast(residual)[:,0]*df_fulton_street['static'][in_sample_cut][7:]"
     ],
     "language": "python",
     "metadata": {},
     "outputs": []
    },
    {
     "cell_type": "code",
     "collapsed": false,
     "input": [
      "truth = df_fulton_street['exits'][in_sample_cut][7:]"
     ],
     "language": "python",
     "metadata": {},
     "outputs": []
    },
    {
     "cell_type": "heading",
     "level": 4,
     "metadata": {},
     "source": [
      "Plot and evaluate in sample result"
     ]
    },
    {
     "cell_type": "code",
     "collapsed": false,
     "input": [
      "result = pd.DataFrame({'pred': prediction,\n",
      "                       'truth': truth})\n",
      "MAD = np.mean(np.abs(result['pred'] - result['truth']))\n",
      "result.plot(title=\"AR lags: {}; MA lags: {}; MAD: {}\".format(\n",
      "    \", \".join(map(str, best_ar_lags)), \", \".join(map(str, best_ma_lags)), MAD))\n",
      "plt.show()"
     ],
     "language": "python",
     "metadata": {},
     "outputs": []
    },
    {
     "cell_type": "heading",
     "level": 4,
     "metadata": {},
     "source": [
      "Plot and evaluate out of sample result"
     ]
    },
    {
     "cell_type": "code",
     "collapsed": false,
     "input": [
      "residual_out = df['exits_wo_trend_and_weekday_and_month'][out_sample_cut]"
     ],
     "language": "python",
     "metadata": {},
     "outputs": []
    },
    {
     "cell_type": "code",
     "collapsed": false,
     "input": [
      "prediction_out = arma.forecast(residual_out)[:,0]*df['static'][out_sample_cut]"
     ],
     "language": "python",
     "metadata": {},
     "outputs": []
    },
    {
     "cell_type": "code",
     "collapsed": false,
     "input": [
      "truth_out = df['exits'][out_sample_cut]"
     ],
     "language": "python",
     "metadata": {},
     "outputs": []
    },
    {
     "cell_type": "code",
     "collapsed": false,
     "input": [
      "result = pd.DataFrame({'pred': prediction_out,\n",
      "                       'truth': truth_out})\n",
      "MAD = np.mean(np.abs(result['pred'] - result['truth']))\n",
      "result.plot(title=\"AR lags: {}; MA lags: {}; MAD: {}\".format(\n",
      "    \", \".join(map(str, best_ar_lags)), \", \".join(map(str, best_ma_lags)), MAD))\n",
      "plt.show()"
     ],
     "language": "python",
     "metadata": {},
     "outputs": []
    },
    {
     "cell_type": "heading",
     "level": 4,
     "metadata": {},
     "source": [
      "Plot acf and pacf of new residual"
     ]
    },
    {
     "cell_type": "code",
     "collapsed": false,
     "input": [
      "residual_test = arma.forecast(residual)[:,0]-df['exits_wo_trend_and_weekday_and_month'][in_sample_cut][7:]\n",
      "plot_acf(residual_test, lags=30)\n",
      "plt.show()"
     ],
     "language": "python",
     "metadata": {},
     "outputs": []
    },
    {
     "cell_type": "code",
     "collapsed": false,
     "input": [
      "plot_pacf(residual_test, lags=30)\n",
      "plt.show()"
     ],
     "language": "python",
     "metadata": {},
     "outputs": []
    }
   ],
   "metadata": {}
  }
 ]
}