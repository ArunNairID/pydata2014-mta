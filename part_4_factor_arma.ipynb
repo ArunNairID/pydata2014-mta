{
 "metadata": {
  "name": "",
  "signature": "sha256:e071fa72bc83a324470bd1659f2ab5dc4810ca466cda917a85a99ace9d75f9e4"
 },
 "nbformat": 3,
 "nbformat_minor": 0,
 "worksheets": [
  {
   "cells": [
    {
     "cell_type": "heading",
     "level": 1,
     "metadata": {},
     "source": [
      "Factor model and ARMA models"
     ]
    },
    {
     "cell_type": "code",
     "collapsed": false,
     "input": [
      "import pandas as pd\n",
      "import numpy as np\n",
      "from matplotlib import pyplot as plt "
     ],
     "language": "python",
     "metadata": {},
     "outputs": []
    },
    {
     "cell_type": "code",
     "collapsed": false,
     "input": [
      "df = pd.read_csv('fulton_street_prepared.csv',\n",
      "                 index_col='date',\n",
      "                 parse_dates=True,\n",
      "                 sep=';')"
     ],
     "language": "python",
     "metadata": {},
     "outputs": []
    },
    {
     "cell_type": "heading",
     "level": 3,
     "metadata": {},
     "source": [
      "Remove linear trend"
     ]
    },
    {
     "cell_type": "code",
     "collapsed": false,
     "input": [
      "df.reset_index(inplace=True)\n",
      "df['timeindex'] = (df['date'] - pd.Timestamp('2010-01-01')) / np.timedelta64(1, 'D')\n",
      "df.set_index('date', inplace=True)"
     ],
     "language": "python",
     "metadata": {},
     "outputs": []
    },
    {
     "cell_type": "code",
     "collapsed": false,
     "input": [
      "df_train = df[df['in_sample']]\n",
      "\n",
      "X_train = np.c_[df_train['timeindex']]\n",
      "y_train = df_train['exits']\n",
      "\n",
      "X_full = np.c_[df['timeindex']]\n",
      "\n",
      "from sklearn import linear_model\n",
      "\n",
      "linreg = linear_model.LinearRegression()\n",
      "\n",
      "linreg.fit(X_train, y_train)\n",
      "\n",
      "df['trend'] = linreg.predict(X_full)"
     ],
     "language": "python",
     "metadata": {},
     "outputs": []
    },
    {
     "cell_type": "code",
     "collapsed": false,
     "input": [
      "df[['exits','trend']].plot()\n",
      "plt.legend(loc=2)\n",
      "plt.show()"
     ],
     "language": "python",
     "metadata": {},
     "outputs": []
    },
    {
     "cell_type": "code",
     "collapsed": false,
     "input": [
      "df['exits_wo_trend'] = df['exits'] / df['trend']\n",
      "df['exits_wo_trend'].plot()\n",
      "plt.show()"
     ],
     "language": "python",
     "metadata": {},
     "outputs": []
    },
    {
     "cell_type": "heading",
     "level": 2,
     "metadata": {},
     "source": [
      "Factor model"
     ]
    },
    {
     "cell_type": "raw",
     "metadata": {},
     "source": [
      "pred = f(trend) * f(weekday) * f(month)"
     ]
    },
    {
     "cell_type": "code",
     "collapsed": false,
     "input": [
      "weekday_factor = df[df['in_sample']].groupby('weekday')['exits_wo_trend'].mean().to_dict()\n",
      "\n",
      "def remove_weekday_profile(row):\n",
      "    return row['exits_wo_trend'] / weekday_factor[row['weekday']]\n",
      "\n",
      "df['exits_wo_trend_and_weekday'] = df.apply(remove_weekday_profile, axis=1)\n",
      "\n",
      "month_factor = df[df['in_sample']].groupby('month')['exits_wo_trend_and_weekday'].mean().to_dict()\n",
      "\n",
      "def remove_month_profile(row):\n",
      "    return row['exits_wo_trend_and_weekday'] / month_factor[row['month']]\n",
      "    \n",
      "df['exits_wo_trend_and_weekday_and_month'] = df.apply(remove_month_profile, axis=1)"
     ],
     "language": "python",
     "metadata": {},
     "outputs": []
    },
    {
     "cell_type": "code",
     "collapsed": false,
     "input": [
      "df['exits_wo_trend_and_weekday_and_month'].plot()\n",
      "plt.show()"
     ],
     "language": "python",
     "metadata": {},
     "outputs": []
    },
    {
     "cell_type": "code",
     "collapsed": false,
     "input": [
      "def factor_model(row):\n",
      "    return row['trend'] * weekday_factor[row['weekday']] * month_factor[row['month']]"
     ],
     "language": "python",
     "metadata": {},
     "outputs": []
    },
    {
     "cell_type": "code",
     "collapsed": false,
     "input": [
      "df_train = df[df['in_sample'] == True]\n",
      "df_test = df[df['in_sample'] == False]"
     ],
     "language": "python",
     "metadata": {},
     "outputs": []
    },
    {
     "cell_type": "code",
     "collapsed": false,
     "input": [
      "df_train['factor_model'] = df_train.apply(factor_model, axis=1)\n",
      "df_test['factor_model'] = df_test.apply(factor_model, axis=1)"
     ],
     "language": "python",
     "metadata": {},
     "outputs": []
    },
    {
     "cell_type": "code",
     "collapsed": false,
     "input": [
      "from evaluation import evaluate"
     ],
     "language": "python",
     "metadata": {},
     "outputs": []
    },
    {
     "cell_type": "code",
     "collapsed": false,
     "input": [
      "evaluate(df_train['factor_model'], df_train['exits'])"
     ],
     "language": "python",
     "metadata": {},
     "outputs": []
    },
    {
     "cell_type": "code",
     "collapsed": false,
     "input": [
      "evaluate(df_test['factor_model'], df_test['exits'])"
     ],
     "language": "python",
     "metadata": {},
     "outputs": []
    },
    {
     "cell_type": "heading",
     "level": 2,
     "metadata": {},
     "source": [
      "ARMA model"
     ]
    },
    {
     "cell_type": "raw",
     "metadata": {},
     "source": [
      "on exits_wo_trend_and_weekday_and_month"
     ]
    },
    {
     "cell_type": "code",
     "collapsed": false,
     "input": [
      "residual_train = df_train['exits_wo_trend_and_weekday_and_month']\n",
      "residual_test = df_test['exits_wo_trend_and_weekday_and_month']"
     ],
     "language": "python",
     "metadata": {},
     "outputs": []
    },
    {
     "cell_type": "heading",
     "level": 3,
     "metadata": {},
     "source": [
      "Plot autocorrelation function and partial autocorrelation function"
     ]
    },
    {
     "cell_type": "code",
     "collapsed": false,
     "input": [
      "from statsmodels.graphics.tsaplots import plot_pacf, plot_acf\n",
      "\n",
      "plot_acf(residual_train, lags=30)\n",
      "plt.show()\n",
      "\n",
      "plot_pacf(residual_train, lags=30)\n",
      "plt.show()"
     ],
     "language": "python",
     "metadata": {},
     "outputs": []
    },
    {
     "cell_type": "heading",
     "level": 3,
     "metadata": {},
     "source": [
      "Find best AR and MA lags "
     ]
    },
    {
     "cell_type": "code",
     "collapsed": false,
     "input": [
      "from pydse.arma import minic, ARMA"
     ],
     "language": "python",
     "metadata": {},
     "outputs": []
    },
    {
     "cell_type": "code",
     "collapsed": false,
     "input": [
      "# this might take a few minutes\n",
      "# best_ar_lags, best_ma_lags = minic([1], [1, 2, 3],\n",
      "#                                    residual_train,\n",
      "#                                    crit='AIC')\n",
      "# print best_ar_lags, best_ma_lags"
     ],
     "language": "python",
     "metadata": {},
     "outputs": []
    },
    {
     "cell_type": "heading",
     "level": 3,
     "metadata": {},
     "source": [
      "Fit ARMA(1, 0) model"
     ]
    },
    {
     "cell_type": "code",
     "collapsed": false,
     "input": [
      "ar_lags = (1,)\n",
      "ma_lags = ()"
     ],
     "language": "python",
     "metadata": {},
     "outputs": []
    },
    {
     "cell_type": "code",
     "collapsed": false,
     "input": [
      "from pydse.utils import make_lag_arr\n",
      "\n",
      "ar_lag_arr = make_lag_arr(ar_lags)\n",
      "ma_lag_arr = make_lag_arr(ma_lags)\n",
      "\n",
      "print ar_lag_arr\n",
      "print ma_lag_arr\n",
      "\n",
      "arma = ARMA(A=ar_lag_arr,\n",
      "            B=ma_lag_arr,\n",
      "            rand_state=0)\n",
      "\n",
      "arma.fix_constants()\n",
      "\n",
      "arma.est_params(residual_train)"
     ],
     "language": "python",
     "metadata": {},
     "outputs": []
    },
    {
     "cell_type": "code",
     "collapsed": false,
     "input": [
      "df_train['pred_arma_residual'] = arma.forecast(residual_train)[:, 0]\n",
      "df_test['pred_arma_residual'] = arma.forecast(residual_test)[:, 0]\n",
      "evaluate(df_train['pred_arma_residual'], residual_train)\n",
      "evaluate(df_test['pred_arma_residual'], residual_test)"
     ],
     "language": "python",
     "metadata": {},
     "outputs": []
    },
    {
     "cell_type": "heading",
     "level": 3,
     "metadata": {},
     "source": [
      "Backtransform"
     ]
    },
    {
     "cell_type": "code",
     "collapsed": false,
     "input": [
      "df_train['pred_arma'] = df_train['pred_arma_residual'] * df_train['factor_model']\n",
      "df_test['pred_arma'] = df_test['pred_arma_residual'] * df_test['factor_model']\n",
      "evaluate(df_train['pred_arma'], df_train['exits'])\n",
      "evaluate(df_test['pred_arma'], df_test['exits'])"
     ],
     "language": "python",
     "metadata": {},
     "outputs": []
    },
    {
     "cell_type": "heading",
     "level": 3,
     "metadata": {},
     "source": [
      "Plot acf and pacf of new residual"
     ]
    },
    {
     "cell_type": "code",
     "collapsed": false,
     "input": [
      "plot_acf(df_test['pred_arma_residual'] - residual_test, lags=30)\n",
      "plt.show()"
     ],
     "language": "python",
     "metadata": {},
     "outputs": []
    },
    {
     "cell_type": "code",
     "collapsed": false,
     "input": [
      "plot_pacf(df_test['pred_arma_residual'] - residual_test, lags=30)\n",
      "plt.show()"
     ],
     "language": "python",
     "metadata": {},
     "outputs": []
    }
   ],
   "metadata": {}
  }
 ]
}