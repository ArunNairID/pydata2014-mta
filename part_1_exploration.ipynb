{
 "metadata": {
  "name": "",
  "signature": "sha256:5a04bde975d12ef135a795252bbf411f9948a84af3108aa9629ea7ce4485779b"
 },
 "nbformat": 3,
 "nbformat_minor": 0,
 "worksheets": [
  {
   "cells": [
    {
     "cell_type": "heading",
     "level": 1,
     "metadata": {},
     "source": [
      "First exploration of timeseries"
     ]
    },
    {
     "cell_type": "code",
     "collapsed": false,
     "input": [
      "import numpy as np\n",
      "import pandas as pd\n",
      "from matplotlib import pyplot as plt "
     ],
     "language": "python",
     "metadata": {},
     "outputs": []
    },
    {
     "cell_type": "heading",
     "level": 2,
     "metadata": {},
     "source": [
      "Load prepared data"
     ]
    },
    {
     "cell_type": "code",
     "collapsed": false,
     "input": [
      "df = pd.read_csv('fulton_street_prepared.csv',\n",
      "                 index_col='date',\n",
      "                 parse_dates=True,\n",
      "                 sep=';')"
     ],
     "language": "python",
     "metadata": {},
     "outputs": []
    },
    {
     "cell_type": "code",
     "collapsed": false,
     "input": [
      "df.head()"
     ],
     "language": "python",
     "metadata": {},
     "outputs": []
    },
    {
     "cell_type": "heading",
     "level": 2,
     "metadata": {},
     "source": [
      "Plot timeseries"
     ]
    },
    {
     "cell_type": "code",
     "collapsed": false,
     "input": [
      "df['exits'].plot()\n",
      "plt.legend()\n",
      "plt.show()"
     ],
     "language": "python",
     "metadata": {},
     "outputs": []
    },
    {
     "cell_type": "heading",
     "level": 2,
     "metadata": {},
     "source": [
      "Plot week profile"
     ]
    },
    {
     "cell_type": "code",
     "collapsed": false,
     "input": [
      "df_week_mean = df.groupby('weekday')[['exits']].mean()\n",
      "df_week_mean.plot(label='mean exits per weekday')\n",
      "plt.legend()\n",
      "plt.show()"
     ],
     "language": "python",
     "metadata": {},
     "outputs": []
    },
    {
     "cell_type": "heading",
     "level": 2,
     "metadata": {},
     "source": [
      "Plot month profile"
     ]
    },
    {
     "cell_type": "code",
     "collapsed": false,
     "input": [
      "df_month_mean = df.groupby('month')[['exits']].mean()\n",
      "df_month_mean.plot(label='mean exits per month')\n",
      "plt.legend()\n",
      "plt.show()"
     ],
     "language": "python",
     "metadata": {},
     "outputs": []
    },
    {
     "cell_type": "heading",
     "level": 2,
     "metadata": {},
     "source": [
      "Plot exits per year"
     ]
    },
    {
     "cell_type": "code",
     "collapsed": false,
     "input": [
      "df_year_mean = df.groupby('year')[['exits']].mean()\n",
      "df_year_mean.plot(label='mean exits per year')\n",
      "plt.legend()\n",
      "plt.show()"
     ],
     "language": "python",
     "metadata": {},
     "outputs": []
    }
   ],
   "metadata": {}
  }
 ]
}