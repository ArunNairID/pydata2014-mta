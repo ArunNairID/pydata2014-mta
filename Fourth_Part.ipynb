{
 "metadata": {
  "name": "Fourth_Part"
 },
 "nbformat": 3,
 "nbformat_minor": 0,
 "worksheets": [
  {
   "cells": [
    {
     "cell_type": "code",
     "collapsed": false,
     "input": [
      "import pandas as pd\n",
      "import numpy as np\n",
      "import datetime as dt\n",
      "from matplotlib import pyplot as plt "
     ],
     "language": "python",
     "metadata": {},
     "outputs": []
    },
    {
     "cell_type": "code",
     "collapsed": false,
     "input": [
      "df_fulton_street = pd.read_csv('fulton_street_moving_averages.csv',parse_dates='Date',sep=';')"
     ],
     "language": "python",
     "metadata": {},
     "outputs": []
    },
    {
     "cell_type": "heading",
     "level": 4,
     "metadata": {},
     "source": [
      "Remove linear trend"
     ]
    },
    {
     "cell_type": "code",
     "collapsed": false,
     "input": [
      "#Linear Trend\n",
      "from datetime import *\n",
      "def delta(y,m,d):\n",
      "    return (datetime(y,m,d)-datetime(2010,1,1,0,0,0)).total_seconds()/(3600*24.)\n",
      "df_fulton_street['timeindex'] = map(delta,df_fulton_street['year'],df_fulton_street['month'],df_fulton_street['day'])\n",
      "\n",
      "import statsmodels.api as sm\n",
      "\n",
      "in_sample_cut = df_fulton_street['in_sample']==True \n",
      "out_sample_cut = df_fulton_street['in_sample']==False\n",
      "\n",
      "X = df_fulton_street['timeindex'][in_sample_cut]\n",
      "Y = df_fulton_street['exits'][in_sample_cut]\n",
      "X = sm.add_constant(X)\n",
      "model = sm.OLS(Y,X)\n",
      "results = model.fit()\n",
      "print results.params"
     ],
     "language": "python",
     "metadata": {},
     "outputs": []
    },
    {
     "cell_type": "code",
     "collapsed": false,
     "input": [
      "X_full = df_fulton_street['timeindex']\n",
      "X_full = sm.add_constant(X_full)"
     ],
     "language": "python",
     "metadata": {},
     "outputs": []
    },
    {
     "cell_type": "code",
     "collapsed": false,
     "input": [
      "df_fulton_street['trend'] = results.predict(X_full)"
     ],
     "language": "python",
     "metadata": {},
     "outputs": []
    },
    {
     "cell_type": "code",
     "collapsed": false,
     "input": [
      "df_fulton_street[['exits','trend']].plot()\n",
      "plt.legend()\n",
      "plt.show()"
     ],
     "language": "python",
     "metadata": {},
     "outputs": []
    },
    {
     "cell_type": "heading",
     "level": 4,
     "metadata": {},
     "source": [
      "Factor model pred = f(trend) * f(weekday) * f(month)"
     ]
    },
    {
     "cell_type": "code",
     "collapsed": false,
     "input": [
      "df_fulton_street['exits_wo_trend'] = df_fulton_street['exits']/df_fulton_street['trend']\n",
      "df_fulton_street['exits_wo_trend'].plot()\n",
      "plt.show()"
     ],
     "language": "python",
     "metadata": {},
     "outputs": []
    },
    {
     "cell_type": "code",
     "collapsed": false,
     "input": [
      "wdfactor = df_fulton_street[in_sample_cut].groupby(['weekday'])['exits_wo_trend'].mean().to_dict()\n",
      "\n",
      "def normalize_weekday(x):\n",
      "        return x['exits_wo_trend']/ wdfactor[x['weekday']]\n",
      "\n",
      "df_fulton_street['exits_wo_trend_and_weekday'] = df_fulton_street.apply(normalize_weekday,axis=1)\n",
      "\n",
      "monthfactor = df_fulton_street[in_sample_cut].groupby(['month'])['exits_wo_trend_and_weekday'].mean().to_dict()\n",
      "\n",
      "def normalize_month(x):\n",
      "        return x['exits_wo_trend_and_weekday']/ monthfactor[x['month']]\n",
      "    \n",
      "df_fulton_street['exits_wo_trend_and_weekday_and_month']= df_fulton_street.apply(normalize_month,axis=1)"
     ],
     "language": "python",
     "metadata": {},
     "outputs": []
    },
    {
     "cell_type": "code",
     "collapsed": false,
     "input": [
      "df_fulton_street['exits_wo_trend_and_weekday_and_month'].plot()\n",
      "plt.show()"
     ],
     "language": "python",
     "metadata": {},
     "outputs": []
    },
    {
     "cell_type": "heading",
     "level": 4,
     "metadata": {},
     "source": [
      "Reconstruct static model"
     ]
    },
    {
     "cell_type": "code",
     "collapsed": false,
     "input": [
      "def staticmodel(x):\n",
      "        return x['trend']*wdfactor[x['weekday']]*monthfactor[x['month']]\n",
      "df_fulton_street['static'] = df_fulton_street.apply(staticmodel,axis=1)"
     ],
     "language": "python",
     "metadata": {},
     "outputs": []
    },
    {
     "cell_type": "code",
     "collapsed": false,
     "input": [
      "def evaluate(pred, truth):\n",
      "    mae = np.mean(np.abs(pred - truth))\n",
      "    plt.plot(pred,label='prediction')\n",
      "    plt.plot(truth,label='truth')\n",
      "    plt.title(\"MAE: {0}\".format(mae))\n",
      "    plt.legend()\n",
      "    plt.show()\n",
      "    return mae"
     ],
     "language": "python",
     "metadata": {},
     "outputs": []
    },
    {
     "cell_type": "code",
     "collapsed": false,
     "input": [
      "y_train = df_fulton_street['exits'][in_sample_cut][7:]\n",
      "y_test = df_fulton_street['exits'][out_sample_cut]"
     ],
     "language": "python",
     "metadata": {},
     "outputs": []
    },
    {
     "cell_type": "code",
     "collapsed": false,
     "input": [
      "evaluate(df_fulton_street['static'][in_sample_cut][7:],y_train)"
     ],
     "language": "python",
     "metadata": {},
     "outputs": []
    },
    {
     "cell_type": "code",
     "collapsed": false,
     "input": [
      "evaluate(df_fulton_street['static'][out_sample_cut],y_test)"
     ],
     "language": "python",
     "metadata": {},
     "outputs": []
    },
    {
     "cell_type": "code",
     "collapsed": false,
     "input": [
      "df_fulton_street.to_csv('fulton_street_after_part_4.csv',sep=';', index=False)"
     ],
     "language": "python",
     "metadata": {},
     "outputs": []
    }
   ],
   "metadata": {}
  }
 ]
}