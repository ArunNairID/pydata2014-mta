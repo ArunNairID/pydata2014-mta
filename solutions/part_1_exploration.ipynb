{
 "metadata": {
  "name": "",
  "signature": "sha256:fc558b3223f1444c0f788b396d85d649abd2ca0abd2e7618ad4ff63f86ea2665"
 },
 "nbformat": 3,
 "nbformat_minor": 0,
 "worksheets": [
  {
   "cells": [
    {
     "cell_type": "heading",
     "level": 1,
     "metadata": {},
     "source": [
      "First exploration of timeseries"
     ]
    },
    {
     "cell_type": "code",
     "collapsed": false,
     "input": [
      "import numpy as np\n",
      "import pandas as pd\n",
      "from matplotlib import pyplot as plt "
     ],
     "language": "python",
     "metadata": {},
     "outputs": []
    },
    {
     "cell_type": "heading",
     "level": 2,
     "metadata": {},
     "source": [
      "Load prepared data"
     ]
    },
    {
     "cell_type": "code",
     "collapsed": false,
     "input": [
      "df = pd.read_csv('fulton_street_prepared.csv',\n",
      "                 index_col='date',\n",
      "                 parse_dates=True,\n",
      "                 sep=';')"
     ],
     "language": "python",
     "metadata": {},
     "outputs": []
    },
    {
     "cell_type": "code",
     "collapsed": false,
     "input": [
      "df.head()"
     ],
     "language": "python",
     "metadata": {},
     "outputs": []
    },
    {
     "cell_type": "heading",
     "level": 2,
     "metadata": {},
     "source": [
      "Plot timeseries"
     ]
    },
    {
     "cell_type": "code",
     "collapsed": false,
     "input": [
      "df['exits'].plot()\n",
      "plt.legend(loc=2)\n",
      "plt.show()"
     ],
     "language": "python",
     "metadata": {},
     "outputs": []
    },
    {
     "cell_type": "heading",
     "level": 2,
     "metadata": {},
     "source": [
      "Plot week profile"
     ]
    },
    {
     "cell_type": "code",
     "collapsed": false,
     "input": [
      "df_week_mean = df.groupby('weekday')[['exits']].mean()\n",
      "df_week_mean.plot(label='mean exits per weekday')\n",
      "plt.legend(loc=1)\n",
      "plt.show()"
     ],
     "language": "python",
     "metadata": {},
     "outputs": []
    },
    {
     "cell_type": "heading",
     "level": 2,
     "metadata": {},
     "source": [
      "Plot month profile"
     ]
    },
    {
     "cell_type": "code",
     "collapsed": false,
     "input": [
      "df_month_mean = df.groupby('month')[['exits']].mean()\n",
      "df_month_mean.plot(label='mean exits per month')\n",
      "plt.legend(loc=2)\n",
      "plt.show()"
     ],
     "language": "python",
     "metadata": {},
     "outputs": []
    },
    {
     "cell_type": "heading",
     "level": 2,
     "metadata": {},
     "source": [
      "Plot exits per year"
     ]
    },
    {
     "cell_type": "code",
     "collapsed": false,
     "input": [
      "df_year_mean = df.groupby('year')[['exits']].mean()\n",
      "df_year_mean.plot(label='mean exits per year')\n",
      "gca().xaxis.set_major_locator(plt.MaxNLocator(integer=True))\n",
      "gca().xaxis.set_major_formatter(plt.FormatStrFormatter('%i'))\n",
      "plt.legend(loc=2)\n",
      "plt.show()"
     ],
     "language": "python",
     "metadata": {},
     "outputs": []
    }
   ],
   "metadata": {}
  }
 ]
}