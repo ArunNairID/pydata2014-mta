{
 "metadata": {
  "name": "",
  "signature": "sha256:82d5e099e44904fb5b74d4157121f6f994887d0d51f4957a0f538a441cf4e8a2"
 },
 "nbformat": 3,
 "nbformat_minor": 0,
 "worksheets": [
  {
   "cells": [
    {
     "cell_type": "heading",
     "level": 1,
     "metadata": {},
     "source": [
      "\n",
      "Distributions, cost functions and estimators"
     ]
    },
    {
     "cell_type": "code",
     "collapsed": false,
     "input": [
      "import pandas as pd\n",
      "import numpy as np\n",
      "from matplotlib import pyplot as plt "
     ],
     "language": "python",
     "metadata": {},
     "outputs": []
    },
    {
     "cell_type": "code",
     "collapsed": false,
     "input": [
      "df = pd.read_csv('fulton_street_prepared.csv',\n",
      "                 index_col='date',\n",
      "                 parse_dates=True,\n",
      "                 sep=';')"
     ],
     "language": "python",
     "metadata": {},
     "outputs": []
    },
    {
     "cell_type": "heading",
     "level": 2,
     "metadata": {},
     "source": [
      "Plot distribution of target and fit gamma distribution"
     ]
    },
    {
     "cell_type": "code",
     "collapsed": false,
     "input": [
      "df['exits'].hist(bins=50, normed=True)\n",
      "\n",
      "from scipy.stats import expon, poisson, gamma\n",
      "\n",
      "gamma_params = gamma.fit(df['exits'])\n",
      "\n",
      "print gamma_params\n",
      "\n",
      "x_values = np.linspace(0, 100000,100)\n",
      "\n",
      "plt.plot(x_values,\n",
      "         gamma.pdf(x_values, gamma_params[0], gamma_params[1], gamma_params[2]))\n",
      "plt.show()"
     ],
     "language": "python",
     "metadata": {},
     "outputs": []
    },
    {
     "cell_type": "heading",
     "level": 2,
     "metadata": {},
     "source": [
      "Convolution of fitted distribution and cost function"
     ]
    },
    {
     "cell_type": "code",
     "collapsed": false,
     "input": [
      "x_values = np.linspace(-100000, 100000, 2000)"
     ],
     "language": "python",
     "metadata": {},
     "outputs": []
    },
    {
     "cell_type": "code",
     "collapsed": false,
     "input": [
      "y_distribution = np.piecewise(\n",
      "        x_values,\n",
      "        [x_values < 0, x_values >= 0],\n",
      "        [lambda x: 0 , lambda x: gamma.pdf(x, gamma_params[0], gamma_params[1], gamma_params[2])])"
     ],
     "language": "python",
     "metadata": {},
     "outputs": []
    },
    {
     "cell_type": "raw",
     "metadata": {},
     "source": [
      "Assume linear cost function\n",
      "cost of not selling one pretzel: USD 1\n",
      "cost of throwing away one pretzel: USD 1"
     ]
    },
    {
     "cell_type": "code",
     "collapsed": false,
     "input": [
      "y_cost_function = np.piecewise(\n",
      "    x_values,\n",
      "    [x_values < 0, x_values >= 0],\n",
      "    [lambda x: -x,  lambda x: x])"
     ],
     "language": "python",
     "metadata": {},
     "outputs": []
    },
    {
     "cell_type": "code",
     "collapsed": false,
     "input": [
      "y_expected_cost = np.convolve(y_cost_function, y_distribution, mode='full')\n",
      "x = np.linspace(-200000, 200000, 3999)\n",
      "plt.plot(x, y_expected_cost)\n",
      "plt.show()"
     ],
     "language": "python",
     "metadata": {},
     "outputs": []
    },
    {
     "cell_type": "heading",
     "level": 2,
     "metadata": {},
     "source": [
      "Find estimator which minimizes the expected cost"
     ]
    },
    {
     "cell_type": "code",
     "collapsed": false,
     "input": [
      "minimum = np.argmin(y_expected_cost[2000: 3000])\n",
      "print \"minimum bin:\", minimum\n",
      "print \"x at minimum - 1:\", x[2000 + minimum - 1]\n",
      "print \"x at minimum:\", x[2000 + minimum]\n",
      "print \"x at minimum + 1:\",x[2000 + minimum + 1]\n",
      "print \"median of gamma distribution:\", gamma.median(gamma_params[0], gamma_params[1], gamma_params[2])"
     ],
     "language": "python",
     "metadata": {},
     "outputs": []
    },
    {
     "cell_type": "code",
     "collapsed": false,
     "input": [
      "minimum = np.argmin(y_expected_cost[2000: 3000])\n",
      "print \"minimum bin: {}\".format(minimum)\n",
      "print \"x at minimum - 1: {:.1f}\".format(x[2000 + minimum - 1])\n",
      "print \"x at minimum: {:.1f}\".format(x[2000 + minimum])\n",
      "print \"x at minimum + 1: {:.1f}\".format(x[2000 + minimum + 1])\n",
      "print \"median of gamma distribution: {:.1f}\".format(\n",
      "        gamma.median(gamma_params[0], gamma_params[1], gamma_params[2]))"
     ],
     "language": "python",
     "metadata": {},
     "outputs": []
    },
    {
     "cell_type": "raw",
     "metadata": {},
     "source": [
      "Assume different (more realistic?) cost function\n",
      "cost of not selling one pretzel: USD 2.50\n",
      "cost of throwing away one pretzel: USD 1.00"
     ]
    },
    {
     "cell_type": "code",
     "collapsed": false,
     "input": [
      "y_cost_function2 = np.piecewise(\n",
      "    x_values,\n",
      "    [x_values < 0, x_values >= 0],\n",
      "    [lambda x: -2.5 * x,  lambda x: x])"
     ],
     "language": "python",
     "metadata": {},
     "outputs": []
    },
    {
     "cell_type": "code",
     "collapsed": false,
     "input": [
      "y_expected_cost2 = np.convolve(y_cost_function2, y_distribution, mode='full')\n",
      "x = np.linspace(-200000, 200000, 3999)\n",
      "plt.plot(x, y_expected_cost2)\n",
      "plt.show()"
     ],
     "language": "python",
     "metadata": {},
     "outputs": []
    },
    {
     "cell_type": "code",
     "collapsed": false,
     "input": [
      "minimum = np.argmin(y_expected_cost2[2000: 3000])\n",
      "print \"minimum bin: {}\".format(minimum)\n",
      "print \"x at minimum - 1: {:.1f}\".format(x[2000 + minimum - 1])\n",
      "print \"x at minimum: {:.1f}\".format(x[2000 + minimum])\n",
      "print \"x at minimum + 1: {:.1f}\".format(x[2000 + minimum + 1])\n",
      "print \"optimal quantile: {:.3f}\".format(2.50 / (2.50 + 1.00))\n",
      "print \"value of optimal estimator: {:.1f}\".format(\n",
      "        gamma.ppf(2.5 / (2.5 + 1.0) ,\n",
      "                  gamma_params[0], gamma_params[1], gamma_params[2]))"
     ],
     "language": "python",
     "metadata": {},
     "outputs": []
    }
   ],
   "metadata": {}
  }
 ]
}