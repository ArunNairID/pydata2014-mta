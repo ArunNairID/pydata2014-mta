{
 "metadata": {
  "name": "",
  "signature": "sha256:d7e41d2efd6551115d8ff822cbd41058e02b3a993bb0e47c6cc4bd8415f37b3d"
 },
 "nbformat": 3,
 "nbformat_minor": 0,
 "worksheets": [
  {
   "cells": [
    {
     "cell_type": "heading",
     "level": 3,
     "metadata": {},
     "source": [
      "Linear Regression and Gradient Boost"
     ]
    },
    {
     "cell_type": "code",
     "collapsed": false,
     "input": [
      "import pandas as pd\n",
      "import numpy as np\n",
      "import datetime as dt\n",
      "from matplotlib import pyplot as plt "
     ],
     "language": "python",
     "metadata": {},
     "outputs": []
    },
    {
     "cell_type": "heading",
     "level": 4,
     "metadata": {},
     "source": [
      "Read in Data with ewma"
     ]
    },
    {
     "cell_type": "code",
     "collapsed": false,
     "input": [
      "df_fulton_street = pd.read_csv('fulton_street_moving_averages.csv',parse_dates=['Date'],sep=';')"
     ],
     "language": "python",
     "metadata": {},
     "outputs": []
    },
    {
     "cell_type": "code",
     "collapsed": false,
     "input": [
      "df_fulton_street.columns.tolist()"
     ],
     "language": "python",
     "metadata": {},
     "outputs": []
    },
    {
     "cell_type": "code",
     "collapsed": false,
     "input": [
      "feature_list = ['exits_last_week','target_daily_emov_fast','target_daily_weekday_emov_fast','target_daily_weekday_roll','target_daily_emov_slow','target_daily_weekday_emov_fast']\n",
      "in_sample_cut = df_fulton_street['in_sample']==True \n",
      "out_sample_cut = df_fulton_street['in_sample']==False"
     ],
     "language": "python",
     "metadata": {},
     "outputs": []
    },
    {
     "cell_type": "code",
     "collapsed": false,
     "input": [
      "x_in = df_fulton_street[feature_list][in_sample_cut]\n",
      "y_in = df_fulton_street['exits'][in_sample_cut]"
     ],
     "language": "python",
     "metadata": {},
     "outputs": []
    },
    {
     "cell_type": "code",
     "collapsed": false,
     "input": [
      "x_test = df_fulton_street[feature_list][out_sample_cut]\n",
      "y_test = df_fulton_street['exits'][out_sample_cut]"
     ],
     "language": "python",
     "metadata": {},
     "outputs": []
    },
    {
     "cell_type": "code",
     "collapsed": false,
     "input": [
      "x_train = x_in[7:]\n",
      "y_train = y_in[7:]"
     ],
     "language": "python",
     "metadata": {},
     "outputs": []
    },
    {
     "cell_type": "heading",
     "level": 4,
     "metadata": {},
     "source": [
      "Linear Regression"
     ]
    },
    {
     "cell_type": "code",
     "collapsed": false,
     "input": [
      "from sklearn import linear_model\n",
      "# Create linear regression object\n",
      "regr = linear_model.LinearRegression()\n",
      "\n",
      "# Train the model using the training sets\n",
      "regr.fit(x_train, y_train)\n",
      "print 'Coefficients: \\n', regr.coef_\n",
      "print 'Intercept: \\n', regr.intercept_"
     ],
     "language": "python",
     "metadata": {},
     "outputs": []
    },
    {
     "cell_type": "code",
     "collapsed": false,
     "input": [
      "pred_in = regr.predict(x_train).ravel()"
     ],
     "language": "python",
     "metadata": {},
     "outputs": []
    },
    {
     "cell_type": "code",
     "collapsed": false,
     "input": [
      "def evaluate(pred, truth):\n",
      "    mae = np.mean(np.abs(pred - truth))\n",
      "    plt.plot(pred,label='prediction')\n",
      "    plt.plot(truth,label='truth')\n",
      "    plt.title(\"MAE: {0}\".format(mae))\n",
      "    plt.legend()\n",
      "    plt.show()\n",
      "    return mae"
     ],
     "language": "python",
     "metadata": {},
     "outputs": []
    },
    {
     "cell_type": "code",
     "collapsed": false,
     "input": [
      "evaluate(pred_in, y_train.values)"
     ],
     "language": "python",
     "metadata": {},
     "outputs": []
    },
    {
     "cell_type": "code",
     "collapsed": false,
     "input": [
      "pred_out = regr.predict(x_test).ravel()"
     ],
     "language": "python",
     "metadata": {},
     "outputs": []
    },
    {
     "cell_type": "code",
     "collapsed": false,
     "input": [
      "evaluate(pred_out, y_test.values)"
     ],
     "language": "python",
     "metadata": {},
     "outputs": []
    },
    {
     "cell_type": "heading",
     "level": 4,
     "metadata": {},
     "source": [
      "Gradient Boost"
     ]
    },
    {
     "cell_type": "code",
     "collapsed": false,
     "input": [
      "from sklearn.ensemble import GradientBoostingRegressor\n",
      "params = {'n_estimators': 1000, 'max_depth': 4, 'min_samples_split': 1,\n",
      "          'learning_rate': 0.01, 'loss': 'ls'}\n",
      "clf = GradientBoostingRegressor(**params)\n",
      "clf.fit(x_train, np.asarray(y_train).ravel())"
     ],
     "language": "python",
     "metadata": {},
     "outputs": []
    },
    {
     "cell_type": "code",
     "collapsed": false,
     "input": [
      "pred_grad_in = clf.predict(x_train)"
     ],
     "language": "python",
     "metadata": {},
     "outputs": []
    },
    {
     "cell_type": "code",
     "collapsed": false,
     "input": [
      "evaluate(pred_grad_in, y_train.values)"
     ],
     "language": "python",
     "metadata": {},
     "outputs": []
    },
    {
     "cell_type": "code",
     "collapsed": false,
     "input": [
      "pred_grad_out = clf.predict(x_test)"
     ],
     "language": "python",
     "metadata": {},
     "outputs": []
    },
    {
     "cell_type": "code",
     "collapsed": false,
     "input": [
      "evaluate(pred_grad_out, y_test.values)"
     ],
     "language": "python",
     "metadata": {},
     "outputs": []
    }
   ],
   "metadata": {}
  }
 ]
}